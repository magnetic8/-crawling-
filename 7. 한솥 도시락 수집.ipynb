{
 "cells": [
  {
   "cell_type": "code",
   "execution_count": 31,
   "id": "c56e3639",
   "metadata": {},
   "outputs": [],
   "source": [
    "from selenium import webdriver as wb\n",
    "from selenium.webdriver.common.keys import Keys\n",
    "from selenium.webdriver.common.by import By\n",
    "import time"
   ]
  },
  {
   "cell_type": "code",
   "execution_count": 32,
   "id": "3e9affe2",
   "metadata": {},
   "outputs": [],
   "source": [
    "# 1. 크롬 부라우저 실행\n",
    "driver = wb.Chrome()\n",
    "# 2. 한솥 메뉴사이트로 이동\n",
    "driver.get('https://www.hsd.co.kr/menu/menu_list')"
   ]
  },
  {
   "cell_type": "code",
   "execution_count": 34,
   "id": "16ebf3b7",
   "metadata": {},
   "outputs": [
    {
     "name": "stdout",
     "output_type": "stream",
     "text": [
      "오븐구이 오리도시락\n",
      "열무 감초고추장 비빔밥\n",
      "열무 두부강된장 비빔밥\n",
      "1993 왕돈까스 도시락\n",
      "한입 족발 도시락\n",
      "매화(순살 고등어 간장구이)\n",
      "진달래\n",
      "개나리(순살 고등어 간장구이)\n",
      "돈까스도련님고기고기\n",
      "탕수육도련님고기고기\n",
      "새치 고기고기\n",
      "돈치 고기고기\n",
      "숯불직화구이\n",
      "소불고기\n",
      "메가치킨제육\n",
      "칠리 찹쌀탕수육도련님\n",
      "동백\n",
      "치킨제육\n",
      "돈까스도련님\n",
      "제육볶음\n",
      "돈치스팸 도시락\n",
      "제육 김치찌개 정식\n",
      "제육 김치 부대찌개 정식\n",
      "돈치스팸 김치 부대찌개 정식\n",
      "빅치킨마요 김치 부대찌개 정식\n",
      "치킨마요 김치 부대찌개 정식\n",
      "빅치킨마요 김치찌개 정식\n",
      "치킨마요 김치찌개 정식\n",
      "메가스팸마요\n",
      "스팸마요\n",
      "메가치킨마요\n",
      "왕치킨마요\n",
      "빅치킨마요\n",
      "치킨마요\n",
      "참치마요\n",
      "돈치마요\n",
      "돈까스 카레\n",
      "스팸 김치볶음밥\n",
      "김치볶음밥\n",
      "스팸철판볶음밥\n",
      "소불고기 철판볶음밥\n",
      "나시고랭\n",
      "묵은지 김치찌개\n",
      "김치 부대찌개\n",
      "숯불직화구이 덮밥\n",
      "마파두부 덮밥\n",
      "왕카레돈까스덮밥\n",
      "새우돈까스 덮밥\n",
      "돈까스 덮밥\n",
      "소불고기 감초고추장 비빔밥\n",
      "시골제육 두부강된장 비빔밥\n",
      "참치야채 감초고추장\n",
      "튼튼도시락\n",
      "토네이도 소세지 파스타\n",
      "트리플 치즈 파스타\n",
      "토마토 미트 파스타\n"
     ]
    }
   ],
   "source": [
    "\n",
    "# a태그에 클래스 이름이 atag인 경우\n",
    "# title = driver.find_elements(By.CSS_SELECTOR,'a.atag')\n",
    "# title\n",
    "# 상품명, 상품가격 수집\n",
    "# 3-1. 상품명\n",
    "# 태그를 같이 적어주어야 할때는 By.CSS_SELECTOR \n",
    "\n",
    "title = driver.find_elements(By.CSS_SELECTOR, 'h4.h.fz_03')\n",
    "for i in title:\n",
    "    print(i.text)\n",
    "    \n",
    "#for i in range(len(title)):\n",
    "#    print(title[i].text)"
   ]
  },
  {
   "cell_type": "code",
   "execution_count": 37,
   "id": "1cc83049",
   "metadata": {},
   "outputs": [
    {
     "data": {
      "text/plain": [
       "56"
      ]
     },
     "execution_count": 37,
     "metadata": {},
     "output_type": "execute_result"
    }
   ],
   "source": [
    "# 3-2 상품가격\n",
    "# 태그로 접근\n",
    "# price = driver.find_elements(By.TAG_NAME, 'strong')  고객 지원같이 필요 없는 게 같이 뜸. 자식 태그로 접근\n",
    "# By.CSS_SELECTOR\n",
    "price = driver.find_elements(By.CSS_SELECTOR, 'div.item-price > strong')\n",
    "len(price)"
   ]
  },
  {
   "cell_type": "code",
   "execution_count": 39,
   "id": "20c5b23f",
   "metadata": {},
   "outputs": [],
   "source": [
    "# 4. 더보기 클릭하기(사이트 메뉴 전체 보기)\n",
    "# 더보기 찾기\n",
    "btn = driver.find_element(By.CSS_SELECTOR, 'a.c_05')\n",
    "btn.click()"
   ]
  },
  {
   "cell_type": "code",
   "execution_count": 44,
   "id": "9f593698",
   "metadata": {},
   "outputs": [],
   "source": [
    "# 4-1. 더보기가 없어질때까지 클릭\n",
    "# 반복의 횟수가 다르기 때문에 while문 사용\n",
    "# while True :\n",
    "#    btn = driver.find_element(By.CSS_SELECTOR, 'a.c_05')\n",
    "#    btn.click()\n",
    "#    time.sleep(1)\n"
   ]
  },
  {
   "cell_type": "code",
   "execution_count": 41,
   "id": "e4ff00d0",
   "metadata": {},
   "outputs": [
    {
     "name": "stdout",
     "output_type": "stream",
     "text": [
      "더보기 완료!\n"
     ]
    }
   ],
   "source": [
    "# 4-2. 예외처리를 사용해서 더보기 제어\n",
    "# 예외처리는 오류가 나면 실행을 멈추는 게 아니라\n",
    "# 다른 코드를 실행 \n",
    "# 더보기를 클릭하고 더보기가 없다면 클릭을 멈추고 while문 종료 \n",
    "\n",
    "try:\n",
    "# 오류 나기 전 실행할 코드  \n",
    "    while True :\n",
    "        btn = driver.find_element(By.CSS_SELECTOR, 'a.c_05')\n",
    "        btn.click()\n",
    "        time.sleep(1)\n",
    "\n",
    "except:\n",
    "#오류가 난 후 실행할 코드 \n",
    "    print('더보기 완료!')"
   ]
  },
  {
   "cell_type": "markdown",
   "id": "c0058d37",
   "metadata": {},
   "source": [
    "#  한 셀에 완벽한 크롤링 코드 짜기"
   ]
  },
  {
   "cell_type": "code",
   "execution_count": 60,
   "id": "4569b3b4",
   "metadata": {},
   "outputs": [
    {
     "name": "stdout",
     "output_type": "stream",
     "text": [
      " \n"
     ]
    }
   ],
   "source": [
    "# 1.. 크롬창 실행 후 > 한솔메뉴 사이트 요청\n",
    "driver= wb.Chrome()\n",
    "driver.get('https://www.hsd.co.kr/menu/menu_list')\n",
    "title_list= []\n",
    "price_list= []\n",
    "\n",
    "# 2. 더보기를 끝까지 누르는 로직\n",
    "try:\n",
    "    while True:\n",
    "        btn = driver.find_element(By.CSS_SELECTOR, 'a.c_05')\n",
    "        btn.click()\n",
    "        time.sleep(1)  # 페이지에 변화가 있다. = time.sleep권장\n",
    "    \n",
    "except:\n",
    "    print(\" \")\n",
    "    \n",
    "# 3. 가격정보와 메뉴명을 수집\n",
    "# 4. 순수한 텍스트 정보만 추출 \n",
    "title = driver.find_elements(By.CSS_SELECTOR, 'h4.h.fz_03')\n",
    "for i in title:\n",
    "     title_list.append(i.text)\n",
    "\n",
    "price = driver.find_elements(By.CSS_SELECTOR, 'div.item-price > strong')\n",
    "for j in price:\n",
    "     price_list.append(j.text)\n",
    "\n",
    "# 5. 데이터 프레임 제작\n",
    "# 6. csv 파일 제작\n",
    "import pandas as pd\n",
    "dic= {'상품명':title_list, '가격':price_list}\n",
    "df = pd.DataFrame(dic)\n",
    "df.to_csv('hs_bests.csv', encoding= 'euc-kr')\n",
    "\n",
    "# 7. chrome 닫기 \n",
    "driver.close()\n"
   ]
  },
  {
   "cell_type": "markdown",
   "id": "d0ae1ec1",
   "metadata": {},
   "source": [
    "# ActionChains\n",
    "- 동작을 연결하는 기능\n",
    "- 액션을 줄 모든 요소를 수집\n",
    "- 차례대로 연결"
   ]
  },
  {
   "cell_type": "code",
   "execution_count": 61,
   "id": "6a991504",
   "metadata": {},
   "outputs": [],
   "source": [
    "from selenium.webdriver import ActionChains"
   ]
  },
  {
   "cell_type": "code",
   "execution_count": 62,
   "id": "e0c06715",
   "metadata": {},
   "outputs": [],
   "source": [
    "driver = wb.Chrome()\n",
    "driver.get('https://www.hsd.co.kr/')"
   ]
  },
  {
   "cell_type": "code",
   "execution_count": 63,
   "id": "7e893c5e",
   "metadata": {},
   "outputs": [],
   "source": [
    "# 메뉴 \n",
    "menu = driver.find_element(By.CSS_SELECTOR,'#gnb > div.gnb_menu > ul > li:nth-child(3) > p > a')\n",
    "\n",
    "# 클릭을 하려면 커서를 올린 상태에서만 가능 (전체 메뉴)\n",
    "total_menu = driver.find_element(By.CSS_SELECTOR,'#gnb > div.gnb_menu > ul > li:nth-child(3) > div > ul > li:nth-child(1) > a')\n"
   ]
  },
  {
   "cell_type": "code",
   "execution_count": 64,
   "id": "079be372",
   "metadata": {},
   "outputs": [],
   "source": [
    "# 커서 올리기 : move_to_element()\n",
    "# 클릭하기 : click()\n",
    "# 살행 : perform()\n",
    "ActionChains(driver).move_to_element(menu).click(total_menu).perform()"
   ]
  },
  {
   "cell_type": "code",
   "execution_count": null,
   "id": "3141c8bc",
   "metadata": {},
   "outputs": [],
   "source": []
  },
  {
   "cell_type": "code",
   "execution_count": null,
   "id": "744429ed",
   "metadata": {},
   "outputs": [],
   "source": []
  },
  {
   "cell_type": "code",
   "execution_count": null,
   "id": "3ccd0e8a",
   "metadata": {},
   "outputs": [],
   "source": []
  }
 ],
 "metadata": {
  "kernelspec": {
   "display_name": "Python 3 (ipykernel)",
   "language": "python",
   "name": "python3"
  },
  "language_info": {
   "codemirror_mode": {
    "name": "ipython",
    "version": 3
   },
   "file_extension": ".py",
   "mimetype": "text/x-python",
   "name": "python",
   "nbconvert_exporter": "python",
   "pygments_lexer": "ipython3",
   "version": "3.9.12"
  }
 },
 "nbformat": 4,
 "nbformat_minor": 5
}
