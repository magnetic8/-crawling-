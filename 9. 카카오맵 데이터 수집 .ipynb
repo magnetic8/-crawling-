{
 "cells": [
  {
   "cell_type": "code",
   "execution_count": 1,
   "id": "b9503eee",
   "metadata": {},
   "outputs": [],
   "source": [
    "from selenium import webdriver as wb\n",
    "from selenium.webdriver.common.keys import Keys\n",
    "from selenium.webdriver.common.by import By\n",
    "import time"
   ]
  },
  {
   "cell_type": "code",
   "execution_count": 3,
   "id": "5951afcd",
   "metadata": {},
   "outputs": [],
   "source": [
    "driver = wb.Chrome()\n",
    "driver.get('https://map.kakao.com/')"
   ]
  },
  {
   "cell_type": "code",
   "execution_count": null,
   "id": "6f488d48",
   "metadata": {},
   "outputs": [],
   "source": [
    "# 크롤링을 진행하려면 지도설정을 없애주어야 함"
   ]
  },
  {
   "cell_type": "code",
   "execution_count": 4,
   "id": "6a71102e",
   "metadata": {},
   "outputs": [],
   "source": [
    "layer = driver.find_element(By.ID, 'dimmedLayer')\n",
    "layer.click()"
   ]
  },
  {
   "cell_type": "code",
   "execution_count": 5,
   "id": "97a7db71",
   "metadata": {},
   "outputs": [],
   "source": [
    "# 검색창에 광주맛집 검색하고\n",
    "# 위에 있는 5개의 맛집 이름 크롤링\n",
    "search = driver.find_element(By.ID, 'search.keyword.query')\n",
    "search.send_keys('광주맛집')\n",
    "search.send_keys(Keys.ENTER)"
   ]
  },
  {
   "cell_type": "code",
   "execution_count": 11,
   "id": "c3d64c97",
   "metadata": {},
   "outputs": [
    {
     "name": "stdout",
     "output_type": "stream",
     "text": [
      "낙선재\n",
      "카페산\n",
      "원조최미자소머리국밥 본관\n",
      "초월보리밥 수양점\n",
      "오라운트\n",
      "강마을다람쥐 팔당본점\n",
      "나인블럭 중대동점\n",
      "소머리국밥최미자1관\n",
      "흙토담골\n",
      "해와달\n",
      "궁뜰 맛있는발효밥상 곤지암맛집 화담숲맛집\n",
      "시래마루\n",
      "추자리막국수\n",
      "위베이크\n",
      "동산들밥\n"
     ]
    }
   ],
   "source": [
    "title = driver.find_elements(By.CLASS_NAME, 'link_name')\n",
    "for i in title:\n",
    "    print(i.text)"
   ]
  },
  {
   "cell_type": "code",
   "execution_count": 20,
   "id": "89956c34",
   "metadata": {},
   "outputs": [
    {
     "name": "stdout",
     "output_type": "stream",
     "text": [
      "낙선재\n",
      "카페산\n",
      "원조최미자소머리국밥 본관\n",
      "초월보리밥 수양점\n",
      "오라운트\n",
      "강마을다람쥐 팔당본점\n",
      "나인블럭 중대동점\n",
      "소머리국밥최미자1관\n",
      "흙토담골\n",
      "해와달\n",
      "시래마루\n",
      "궁뜰 맛있는발효밥상 곤지암맛집 화담숲맛집\n",
      "동산들밥\n",
      "추자리막국수\n",
      "위베이크\n"
     ]
    }
   ],
   "source": [
    "# 백그라운드에서 실행하기\n",
    "option = wb.ChromeOptions() # 옵션 만들기 \n",
    "option.add_argument('headless') # 옵션 지정하기\n",
    "\n",
    "\n",
    "# 한 셀에 전체 코드 집어넣어서 실행해보기\n",
    "driver = wb.Chrome(options = option) # 옵션 사용하기\n",
    "driver.get('https://map.kakao.com/')\n",
    "\n",
    "time.sleep(1)\n",
    "\n",
    "# 화면을 덮고 있는 div태그 없애주기 \n",
    "layer = driver.find_element(By.ID, 'dimmedLayer')\n",
    "layer.click()\n",
    "\n",
    "time.sleep(1)\n",
    "\n",
    "# .을 클래스를 지칭하는 게 아니라 id의 문자로 넣자\n",
    "# . # 앞에 \\. \\# > 문자열\n",
    "search = driver.find_element(By.CSS_SELECTOR, 'input#search\\.keyword\\.query')\n",
    "search.send_keys('광주맛집')\n",
    "\n",
    "# 검색\n",
    "search.send_keys(Keys.ENTER)\n",
    "\n",
    "time.sleep(1)\n",
    "\n",
    "title = driver.find_elements(By.CLASS_NAME, 'link_name')\n",
    "for i in title:\n",
    "    print(i.text)"
   ]
  },
  {
   "cell_type": "code",
   "execution_count": 14,
   "id": "ee0cba8b",
   "metadata": {},
   "outputs": [
    {
     "data": {
      "text/plain": [
       "[]"
      ]
     },
     "execution_count": 14,
     "metadata": {},
     "output_type": "execute_result"
    }
   ],
   "source": []
  },
  {
   "cell_type": "code",
   "execution_count": null,
   "id": "6c5d7850",
   "metadata": {},
   "outputs": [],
   "source": []
  },
  {
   "cell_type": "code",
   "execution_count": null,
   "id": "6bd1a4b0",
   "metadata": {},
   "outputs": [],
   "source": []
  },
  {
   "cell_type": "code",
   "execution_count": null,
   "id": "9718d57f",
   "metadata": {},
   "outputs": [],
   "source": []
  },
  {
   "cell_type": "code",
   "execution_count": null,
   "id": "152bdaf2",
   "metadata": {},
   "outputs": [],
   "source": []
  },
  {
   "cell_type": "code",
   "execution_count": null,
   "id": "a6af5126",
   "metadata": {},
   "outputs": [],
   "source": []
  },
  {
   "cell_type": "code",
   "execution_count": null,
   "id": "1bd84626",
   "metadata": {},
   "outputs": [],
   "source": []
  }
 ],
 "metadata": {
  "kernelspec": {
   "display_name": "Python 3 (ipykernel)",
   "language": "python",
   "name": "python3"
  },
  "language_info": {
   "codemirror_mode": {
    "name": "ipython",
    "version": 3
   },
   "file_extension": ".py",
   "mimetype": "text/x-python",
   "name": "python",
   "nbconvert_exporter": "python",
   "pygments_lexer": "ipython3",
   "version": "3.9.12"
  }
 },
 "nbformat": 4,
 "nbformat_minor": 5
}
