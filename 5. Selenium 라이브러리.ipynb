{
 "cells": [
  {
   "cell_type": "markdown",
   "id": "b0b52ed0",
   "metadata": {},
   "source": [
    "# Selenium 라이브러리\n",
    "- 웹 브라우저를 자동으로 제어하기 위한 라이브러리\n",
    "- 브라우저를 키는 것 부터 제어 > requests가 필요가 없음\n",
    "- 처음 사용할땐 설치가 필요\n",
    "- webdriver : 브라우저 역할(requests와 비슷)\n",
    "- Keys: 컴퓨터에서 키보드 역할\n",
    "- By : 선택자를 선택하는 역할"
   ]
  },
  {
   "cell_type": "code",
   "execution_count": 1,
   "id": "cf80ebf6",
   "metadata": {
    "scrolled": true
   },
   "outputs": [
    {
     "name": "stdout",
     "output_type": "stream",
     "text": [
      "Collecting selenium\n",
      "  Downloading selenium-4.3.0-py3-none-any.whl (981 kB)\n",
      "Collecting trio-websocket~=0.9\n",
      "  Downloading trio_websocket-0.9.2-py3-none-any.whl (16 kB)\n",
      "Collecting trio~=0.17\n",
      "  Downloading trio-0.21.0-py3-none-any.whl (358 kB)\n",
      "Requirement already satisfied: urllib3[secure,socks]~=1.26 in c:\\users\\aischool\\anaconda3\\lib\\site-packages (from selenium) (1.26.9)\n",
      "Requirement already satisfied: cffi>=1.14 in c:\\users\\aischool\\anaconda3\\lib\\site-packages (from trio~=0.17->selenium) (1.15.0)\n",
      "Requirement already satisfied: sortedcontainers in c:\\users\\aischool\\anaconda3\\lib\\site-packages (from trio~=0.17->selenium) (2.4.0)\n",
      "Collecting async-generator>=1.9\n",
      "  Downloading async_generator-1.10-py3-none-any.whl (18 kB)\n",
      "Requirement already satisfied: sniffio in c:\\users\\aischool\\anaconda3\\lib\\site-packages (from trio~=0.17->selenium) (1.2.0)\n",
      "Requirement already satisfied: attrs>=19.2.0 in c:\\users\\aischool\\anaconda3\\lib\\site-packages (from trio~=0.17->selenium) (21.4.0)\n",
      "Collecting outcome\n",
      "  Downloading outcome-1.2.0-py2.py3-none-any.whl (9.7 kB)\n",
      "Requirement already satisfied: idna in c:\\users\\aischool\\anaconda3\\lib\\site-packages (from trio~=0.17->selenium) (3.3)\n",
      "Requirement already satisfied: pycparser in c:\\users\\aischool\\anaconda3\\lib\\site-packages (from cffi>=1.14->trio~=0.17->selenium) (2.21)\n",
      "Collecting wsproto>=0.14\n",
      "  Downloading wsproto-1.1.0-py3-none-any.whl (24 kB)\n",
      "Requirement already satisfied: cryptography>=1.3.4 in c:\\users\\aischool\\anaconda3\\lib\\site-packages (from urllib3[secure,socks]~=1.26->selenium) (3.4.8)\n",
      "Requirement already satisfied: certifi in c:\\users\\aischool\\anaconda3\\lib\\site-packages (from urllib3[secure,socks]~=1.26->selenium) (2021.10.8)\n",
      "Requirement already satisfied: pyOpenSSL>=0.14 in c:\\users\\aischool\\anaconda3\\lib\\site-packages (from urllib3[secure,socks]~=1.26->selenium) (21.0.0)\n",
      "Requirement already satisfied: PySocks!=1.5.7,<2.0,>=1.5.6 in c:\\users\\aischool\\anaconda3\\lib\\site-packages (from urllib3[secure,socks]~=1.26->selenium) (1.7.1)\n",
      "Requirement already satisfied: six>=1.5.2 in c:\\users\\aischool\\anaconda3\\lib\\site-packages (from pyOpenSSL>=0.14->urllib3[secure,socks]~=1.26->selenium) (1.16.0)\n",
      "Collecting h11<1,>=0.9.0\n",
      "  Downloading h11-0.13.0-py3-none-any.whl (58 kB)\n",
      "Installing collected packages: outcome, h11, async-generator, wsproto, trio, trio-websocket, selenium\n",
      "Successfully installed async-generator-1.10 h11-0.13.0 outcome-1.2.0 selenium-4.3.0 trio-0.21.0 trio-websocket-0.9.2 wsproto-1.1.0\n"
     ]
    }
   ],
   "source": [
    "# from~~~ import~~~~> 기존에 주피터 노트북이 가지고 있음\n",
    "# !pip install ~~~ > 기존에 주피터 노트북이 가지고 있지 않음\n",
    "# !pip install은 한 환경에 한번만 진행하면 됨\n",
    "# !pip install selenium\n"
   ]
  },
  {
   "cell_type": "code",
   "execution_count": 2,
   "id": "51d042c3",
   "metadata": {},
   "outputs": [],
   "source": [
    "from selenium import webdriver as wb\n",
    "from selenium.webdriver.common.keys import Keys\n",
    "from selenium.webdriver.common.by import By"
   ]
  },
  {
   "cell_type": "code",
   "execution_count": 4,
   "id": "91d59d95",
   "metadata": {},
   "outputs": [],
   "source": [
    "# 1. 크롬창 열기\n",
    "driver = wb.Chrome()"
   ]
  },
  {
   "cell_type": "code",
   "execution_count": 6,
   "id": "ab99e094",
   "metadata": {},
   "outputs": [],
   "source": [
    "# 2. 네이버 들어가기\n",
    "# driver.get(url)\n",
    "driver.get('https://www.naver.com')\n"
   ]
  },
  {
   "cell_type": "code",
   "execution_count": 11,
   "id": "e15c525d",
   "metadata": {},
   "outputs": [],
   "source": [
    "# 3. 검색바 찾기\n",
    "# id=\"query\"\n",
    "search = driver.find_element(By.ID,'query' )\n",
    "# find_element_by_id (리뉴얼전)"
   ]
  },
  {
   "cell_type": "code",
   "execution_count": 12,
   "id": "d9f740e8",
   "metadata": {},
   "outputs": [],
   "source": [
    "# 4. '광주날씨' 입력\n",
    "search.send_keys('광주날씨')"
   ]
  },
  {
   "cell_type": "code",
   "execution_count": 10,
   "id": "11cd25df",
   "metadata": {},
   "outputs": [],
   "source": [
    "# 5. 검색하기\n",
    "# 5-1. 엔터누르기\n",
    "# >> 검색바에서 눌러야 함\n",
    "search.send_keys(Keys.ENTER)"
   ]
  },
  {
   "cell_type": "code",
   "execution_count": 13,
   "id": "743a6c64",
   "metadata": {},
   "outputs": [],
   "source": [
    "# 5-2 검색 버튼 누르기\n",
    "# id : search_btn\n",
    "# 검색 버튼 찾기\n",
    "search_btn = driver.find_element(By. ID, 'search_btn')\n",
    "# 클릭\n",
    "search_btn.click()"
   ]
  },
  {
   "cell_type": "code",
   "execution_count": 14,
   "id": "365d5e69",
   "metadata": {},
   "outputs": [],
   "source": [
    "# 6. 뒤로 가기  (이전 페이지로 되돌리기)\n",
    "driver.back()"
   ]
  },
  {
   "cell_type": "code",
   "execution_count": 15,
   "id": "9ecc1c87",
   "metadata": {},
   "outputs": [],
   "source": [
    "# 7. 창 종료\n",
    "driver.close()"
   ]
  },
  {
   "cell_type": "code",
   "execution_count": 16,
   "id": "9182feb3",
   "metadata": {},
   "outputs": [],
   "source": [
    "# 8. 진짜 자동화\n",
    "driver = wb.Chrome()\n",
    "driver.get('https://www.naver.com')\n",
    "search = driver.find_element(By.ID,'query' )\n",
    "search.send_keys('광주날씨')\n",
    "search.send_keys(Keys.ENTER)\n",
    "driver.back()\n",
    "driver.close()"
   ]
  },
  {
   "cell_type": "code",
   "execution_count": null,
   "id": "c4fb00cd",
   "metadata": {},
   "outputs": [],
   "source": []
  },
  {
   "cell_type": "code",
   "execution_count": null,
   "id": "1d6bd158",
   "metadata": {},
   "outputs": [],
   "source": []
  }
 ],
 "metadata": {
  "kernelspec": {
   "display_name": "Python 3 (ipykernel)",
   "language": "python",
   "name": "python3"
  },
  "language_info": {
   "codemirror_mode": {
    "name": "ipython",
    "version": 3
   },
   "file_extension": ".py",
   "mimetype": "text/x-python",
   "name": "python",
   "nbconvert_exporter": "python",
   "pygments_lexer": "ipython3",
   "version": "3.9.12"
  }
 },
 "nbformat": 4,
 "nbformat_minor": 5
}
