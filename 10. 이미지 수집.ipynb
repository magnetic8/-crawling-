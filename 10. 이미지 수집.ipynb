{
 "cells": [
  {
   "cell_type": "code",
   "execution_count": 12,
   "id": "86f72989",
   "metadata": {},
   "outputs": [],
   "source": [
    "from selenium import webdriver as wb\n",
    "from selenium.webdriver.common.keys import Keys\n",
    "from selenium.webdriver.common.by import By\n",
    "import time\n",
    "# 파일 시스템을 위한 라이브러리(파일, 폴더에 접근)\n",
    "import os\n",
    "# 이미지의 url값을 파일로 변형시켜주는 라이브러리\n",
    "from urllib.request import urlretrieve"
   ]
  },
  {
   "cell_type": "code",
   "execution_count": null,
   "id": "605144ea",
   "metadata": {},
   "outputs": [],
   "source": [
    "# 네이버에서 유희열을 검색해보고 이미지를 크롤링"
   ]
  },
  {
   "cell_type": "code",
   "execution_count": 2,
   "id": "5c1b37d6",
   "metadata": {},
   "outputs": [],
   "source": [
    "# 1. 크롬을 열고 네이버에 들어가기\n",
    "driver = wb.Chrome()\n",
    "driver.get('https://www.naver.com/')"
   ]
  },
  {
   "cell_type": "code",
   "execution_count": 4,
   "id": "e865bb8f",
   "metadata": {},
   "outputs": [],
   "source": [
    "# 2. 원하는 검색어 검색하기\n",
    "# 2-1 검색바 찾기\n",
    "search = driver.find_element(By.ID, 'query')\n",
    "# 2-2 검색어 입력\n",
    "search.send_keys('멧밭쥐')\n",
    "# 2-3 검색\n",
    "search.send_keys(Keys.ENTER)\n"
   ]
  },
  {
   "cell_type": "code",
   "execution_count": 5,
   "id": "f52ba440",
   "metadata": {},
   "outputs": [],
   "source": [
    "# 3. 이미지 탭 클릭하기\n",
    "image_tab = driver.find_element(By.CSS_SELECTOR,'#lnb > div.lnb_group > div > ul > li:nth-child(2) > a')\n",
    "image_tab.click()"
   ]
  },
  {
   "cell_type": "code",
   "execution_count": 22,
   "id": "efe3ab52",
   "metadata": {},
   "outputs": [
    {
     "data": {
      "text/plain": [
       "144"
      ]
     },
     "execution_count": 22,
     "metadata": {},
     "output_type": "execute_result"
    }
   ],
   "source": [
    "# 4. 이미지 수집\n",
    "# 4-1. 이미지 태그 수집\n",
    "imgs = driver.find_elements(By.CSS_SELECTOR, 'img._image._listImage')\n",
    "len(imgs)"
   ]
  },
  {
   "cell_type": "code",
   "execution_count": 23,
   "id": "5412541d",
   "metadata": {},
   "outputs": [],
   "source": [
    "# 4-2. 이미지 태그 안에 있는  src 속성값 가져오기 \n",
    "# 속성을 가져오는 함수 get_attribute()\n",
    "# 반복문을 사용해서 전체 img태그에 있는 src수집\n",
    "img_url = []\n",
    "for img in imgs:\n",
    "    img_url.append(img.get_attribute('src'))\n",
    "    "
   ]
  },
  {
   "cell_type": "code",
   "execution_count": 24,
   "id": "072a83e8",
   "metadata": {},
   "outputs": [],
   "source": [
    "# 4-3. 다운로드 받을 폴더 만들기\n",
    "# 바탕화면에 이미지 폴더 생성\n",
    "# 바탕화면에 이미지라는 폴더가 없다면 생성\n",
    "\n",
    "# C:/Users/aischool/Desktop < 바탕화면 경로\n",
    "\n",
    "# 바탕화면에 이미지라는 폴더가 있니?\n",
    "if not os.path.isdir('C:/Users/aischool/Desktop/이미지'):\n",
    "    # 바탕화면에 이미지 폴더 없을 때\n",
    "    os.mkdir('C:/Users/aischool/Desktop/이미지')"
   ]
  },
  {
   "cell_type": "code",
   "execution_count": 25,
   "id": "e0009491",
   "metadata": {},
   "outputs": [],
   "source": [
    "# 4-4. 이미지 폴더에 이미지 저장\n",
    "# 바로 실행시키면 깨지는 이미지들이 발생\n",
    "# 스크롤을 내리자마자 컴퓨터가 인식하는 게 아니라\n",
    "# 전체 사진을 다 인식하려면 시간이 필요\n",
    "# 이미지 로딩할 시간을 주어야 함 > ing url을 다시 수집(4-1)\n",
    "\n",
    "count = 0 # 이미지 순서\n",
    "for i in img_url:\n",
    "    # url경로, 파일 저장 경로\n",
    "    urlretrieve(i, f'C:/Users/aischool/Desktop/이미지/{count}.jpg')\n",
    "    count+=1"
   ]
  },
  {
   "cell_type": "code",
   "execution_count": 26,
   "id": "5decce17",
   "metadata": {},
   "outputs": [
    {
     "data": {
      "text/plain": [
       "'https://search.pstatic.net/common/?src=http%3A%2F%2Fblogfiles.naver.net%2F20110117_54%2Fhangsan47_12952599496010KpS8_JPEG%2FIMG_9804.JPG&type=a340'"
      ]
     },
     "execution_count": 26,
     "metadata": {},
     "output_type": "execute_result"
    }
   ],
   "source": [
    "img_url[15]"
   ]
  },
  {
   "cell_type": "code",
   "execution_count": null,
   "id": "88a09db6",
   "metadata": {},
   "outputs": [],
   "source": []
  },
  {
   "cell_type": "code",
   "execution_count": null,
   "id": "c865ca2b",
   "metadata": {},
   "outputs": [],
   "source": []
  },
  {
   "cell_type": "code",
   "execution_count": null,
   "id": "2eb05906",
   "metadata": {},
   "outputs": [],
   "source": []
  }
 ],
 "metadata": {
  "kernelspec": {
   "display_name": "Python 3 (ipykernel)",
   "language": "python",
   "name": "python3"
  },
  "language_info": {
   "codemirror_mode": {
    "name": "ipython",
    "version": 3
   },
   "file_extension": ".py",
   "mimetype": "text/x-python",
   "name": "python",
   "nbconvert_exporter": "python",
   "pygments_lexer": "ipython3",
   "version": "3.9.12"
  }
 },
 "nbformat": 4,
 "nbformat_minor": 5
}
