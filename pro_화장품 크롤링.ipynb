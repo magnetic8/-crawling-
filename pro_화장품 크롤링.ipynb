{
 "cells": [
  {
   "cell_type": "code",
   "execution_count": 1,
   "id": "cd3d2814",
   "metadata": {},
   "outputs": [],
   "source": [
    "from selenium import webdriver as wb\n",
    "from selenium.webdriver.common.keys import Keys\n",
    "from selenium.webdriver.common.by import By"
   ]
  },
  {
   "cell_type": "code",
   "execution_count": 12,
   "id": "3dfa871e",
   "metadata": {},
   "outputs": [],
   "source": [
    "driver = wb.Chrome()\n",
    "driver.get('https://www.glowpick.com/searches?tab=categories')"
   ]
  },
  {
   "cell_type": "code",
   "execution_count": 13,
   "id": "8df99982",
   "metadata": {},
   "outputs": [],
   "source": [
    "imgs = driver.find_elements(By.CLASS_NAME, 'navigator__group__second__item')"
   ]
  },
  {
   "cell_type": "code",
   "execution_count": 15,
   "id": "a433fc9a",
   "metadata": {},
   "outputs": [],
   "source": [
    "imgs[0].click()"
   ]
  },
  {
   "cell_type": "code",
   "execution_count": 17,
   "id": "5f373365",
   "metadata": {},
   "outputs": [],
   "source": [
    "imgs2 = driver.find_elements(By.CLASS_NAME, 'details__product')\n",
    "imgs2[0].click()"
   ]
  },
  {
   "cell_type": "code",
   "execution_count": 20,
   "id": "2b5e39af",
   "metadata": {},
   "outputs": [
    {
     "data": {
      "text/plain": [
       "'파워 10 포뮬라 엘아이 젤리 패드 감초줄렌'"
      ]
     },
     "execution_count": 20,
     "metadata": {},
     "output_type": "execute_result"
    }
   ],
   "source": [
    "title = driver.find_element(By.CLASS_NAME, 'product__summary__name')\n",
    "title.text"
   ]
  },
  {
   "cell_type": "code",
   "execution_count": 23,
   "id": "6dc24273",
   "metadata": {},
   "outputs": [
    {
     "data": {
      "text/plain": [
       "'촉촉한 수분감이 빈틈없이 밀착되는 팩 겸용 진정 패드\\n\\n- 건조한 피부를 편안하게 진정시킴\\n- 에센스를 가득 머금어 말랑말랑 젤리화 된 시트\\n- 굴곡진 부위에도 빈틈없이 초밀착'"
      ]
     },
     "execution_count": 23,
     "metadata": {},
     "output_type": "execute_result"
    }
   ],
   "source": [
    "product = driver.find_element(By.CLASS_NAME, 'descriptions__article__pre')\n",
    "product.text"
   ]
  },
  {
   "cell_type": "code",
   "execution_count": null,
   "id": "ee431ca6",
   "metadata": {},
   "outputs": [],
   "source": [
    "# 전체 코드, 틀린 코드\n",
    "driver = wb.Chrome()\n",
    "driver.get('https://www.glowpick.com/searches?tab=categories')\n",
    "title_list = []\n",
    "product_list =[]\n",
    "for i in range(140):\n",
    "    imgs = driver.find_elements(By.CLASS_NAME, 'navigator__group__second__item')\n",
    "    imgs[i].click()\n",
    "    time.sleep(1)\n",
    "    imgs2 = driver.find_elements(By.CLASS_NAME, 'details__product')\n",
    "    imgs2[i].click()\n",
    "    title = driver.find_element(By.CLASS_NAME, 'product__summary__name')\n",
    "    product = driver.find_element(By.CLASS_NAME, 'descriptions__article__pre')\n",
    "    title_list.append(title.text)\n",
    "    prodect_list.append(product.text)\n",
    "    # 뒤로가기\n",
    "    print(f'상품명 : {title.text}')\n",
    "    print(f'제품소개 : {product.text}')\n",
    "    print(i)\n",
    "    driver.back()\n",
    "    time.sleep(1)\n",
    "    "
   ]
  },
  {
   "cell_type": "code",
   "execution_count": null,
   "id": "6cad7b94",
   "metadata": {},
   "outputs": [],
   "source": [
    "import pandas as pd\n",
    "dic = {'상품명' : title_list, '제품소개' : product_list}\n",
    "df = pd.DataFrame(dic)\n",
    "df.to_csv('glowpick.csv', encoding = 'euc-kr')"
   ]
  },
  {
   "cell_type": "code",
   "execution_count": null,
   "id": "42d9fdb8",
   "metadata": {},
   "outputs": [],
   "source": [
    "#-------------------------------------------------------------------------------------------"
   ]
  },
  {
   "cell_type": "code",
   "execution_count": 40,
   "id": "07c4aa5d",
   "metadata": {},
   "outputs": [],
   "source": [
    "driver = wb.Chrome()\n",
    "driver.get('https://www.glowpick.com/searches/keywords')"
   ]
  },
  {
   "cell_type": "code",
   "execution_count": 41,
   "id": "bac73d8d",
   "metadata": {},
   "outputs": [],
   "source": [
    "che = driver.find_element(By.CLASS_NAME, 'buttons__button.buttons__not-today')\n",
    "che.click()"
   ]
  },
  {
   "cell_type": "code",
   "execution_count": 42,
   "id": "3af3cf33",
   "metadata": {},
   "outputs": [],
   "source": [
    "search = driver.find_element(By.CLASS_NAME,'header__input.copyable') \n",
    "search.send_keys('수분크림')\n",
    "search.send_keys(Keys.ENTER)"
   ]
  },
  {
   "cell_type": "code",
   "execution_count": 39,
   "id": "0aa2a9ab",
   "metadata": {},
   "outputs": [
    {
     "ename": "KeyboardInterrupt",
     "evalue": "",
     "output_type": "error",
     "traceback": [
      "\u001b[1;31m---------------------------------------------------------------------------\u001b[0m",
      "\u001b[1;31mKeyboardInterrupt\u001b[0m                         Traceback (most recent call last)",
      "Input \u001b[1;32mIn [39]\u001b[0m, in \u001b[0;36m<cell line: 5>\u001b[1;34m()\u001b[0m\n\u001b[0;32m      5\u001b[0m body \u001b[38;5;241m=\u001b[39m driver\u001b[38;5;241m.\u001b[39mfind_element(By\u001b[38;5;241m.\u001b[39mTAG_NAME, \u001b[38;5;124m'\u001b[39m\u001b[38;5;124mbody\u001b[39m\u001b[38;5;124m'\u001b[39m)\n\u001b[0;32m      6\u001b[0m body\u001b[38;5;241m.\u001b[39msend_keys(Keys\u001b[38;5;241m.\u001b[39mEND)\n\u001b[1;32m----> 7\u001b[0m \u001b[43mtime\u001b[49m\u001b[38;5;241;43m.\u001b[39;49m\u001b[43msleep\u001b[49m\u001b[43m(\u001b[49m\u001b[38;5;241;43m0.5\u001b[39;49m\u001b[43m)\u001b[49m\n",
      "\u001b[1;31mKeyboardInterrupt\u001b[0m: "
     ]
    }
   ],
   "source": [
    "# import time\n",
    "# 댓글 정보 갱신 / 키보드 end 사용\n",
    "## body 태그에 end 버튼\n",
    "# while True:\n",
    "#    body = driver.find_element(By.TAG_NAME, 'body')\n",
    "#    body.send_keys(Keys.END)\n",
    "#   time.sleep(0.5)"
   ]
  },
  {
   "cell_type": "code",
   "execution_count": 43,
   "id": "83106d6f",
   "metadata": {},
   "outputs": [],
   "source": [
    "import time\n",
    "for i in range(10):\n",
    "    body = driver.find_element(By.TAG_NAME, 'body')\n",
    "    body.send_keys(Keys.END)\n",
    "    time.sleep(0.5)"
   ]
  },
  {
   "cell_type": "code",
   "execution_count": 44,
   "id": "69f01d26",
   "metadata": {},
   "outputs": [],
   "source": [
    "# 스크롤 위로 올리기\n",
    "driver.execute_script(\"window.scrollTo(0,0)\")"
   ]
  },
  {
   "cell_type": "code",
   "execution_count": 45,
   "id": "82857c3f",
   "metadata": {
    "scrolled": true
   },
   "outputs": [],
   "source": [
    "# 상품 클릭 / 상세 정보페이지\n",
    "imgs2 = driver.find_elements(By.CLASS_NAME, 'font-normal')\n",
    "imgs2[0].click()"
   ]
  },
  {
   "cell_type": "code",
   "execution_count": 46,
   "id": "f28cf443",
   "metadata": {},
   "outputs": [],
   "source": [
    "# 제품 이름 갖고 오기\n",
    "title = driver.find_element(By.CLASS_NAME, 'product__summary__name')"
   ]
  },
  {
   "cell_type": "code",
   "execution_count": 50,
   "id": "d0d2e898",
   "metadata": {},
   "outputs": [],
   "source": [
    "# 스크롤 한 번 내리기\n",
    "driver.execute_script(\"window.scrollTo(0,5)\")"
   ]
  },
  {
   "cell_type": "code",
   "execution_count": 51,
   "id": "60ae707b",
   "metadata": {},
   "outputs": [],
   "source": [
    "che2 = driver.find_element(By.CLASS_NAME, 'info__article__h3__button')\n",
    "che2.click()\n",
    "ewg = driver.find_element(By.CLASS_NAME, 'ingredient__list__item.item')"
   ]
  },
  {
   "cell_type": "code",
   "execution_count": 52,
   "id": "5d99218b",
   "metadata": {},
   "outputs": [],
   "source": [
    "# 스크롤 위로 올리기\n",
    "driver.execute_script(\"window.scrollTo(0,0)\")"
   ]
  },
  {
   "cell_type": "code",
   "execution_count": 53,
   "id": "2874df06",
   "metadata": {},
   "outputs": [],
   "source": [
    "che3 = driver.find_element(By.CLASS_NAME, 'details__contents__h1__button')\n",
    "che3.click()"
   ]
  },
  {
   "cell_type": "code",
   "execution_count": 54,
   "id": "7f9b3da9",
   "metadata": {},
   "outputs": [],
   "source": [
    "product = driver.find_element(By.CLASS_NAME, 'info__text.description__text')"
   ]
  },
  {
   "cell_type": "code",
   "execution_count": 55,
   "id": "25a59223",
   "metadata": {},
   "outputs": [
    {
     "data": {
      "text/plain": [
       "'모이스처 밸런싱 크림'"
      ]
     },
     "execution_count": 55,
     "metadata": {},
     "output_type": "execute_result"
    }
   ],
   "source": [
    "title.text"
   ]
  },
  {
   "cell_type": "code",
   "execution_count": 56,
   "id": "1c462203",
   "metadata": {},
   "outputs": [
    {
     "ename": "StaleElementReferenceException",
     "evalue": "Message: stale element reference: element is not attached to the page document\n  (Session info: chrome=107.0.5304.107)\nStacktrace:\nBacktrace:\n\tOrdinal0 [0x008CACD3+2075859]\n\tOrdinal0 [0x0085EE61+1633889]\n\tOrdinal0 [0x0075B7BD+571325]\n\tOrdinal0 [0x0075E374+582516]\n\tOrdinal0 [0x0075E225+582181]\n\tOrdinal0 [0x0075E4C0+582848]\n\tOrdinal0 [0x00786847+747591]\n\tOrdinal0 [0x007A731C+881436]\n\tOrdinal0 [0x007815BF+726463]\n\tOrdinal0 [0x007A7534+881972]\n\tOrdinal0 [0x007BB56A+963946]\n\tOrdinal0 [0x007A7136+880950]\n\tOrdinal0 [0x0077FEFD+720637]\n\tOrdinal0 [0x00780F3F+724799]\n\tGetHandleVerifier [0x00B7EED2+2769538]\n\tGetHandleVerifier [0x00B70D95+2711877]\n\tGetHandleVerifier [0x0095A03A+521194]\n\tGetHandleVerifier [0x00958DA0+516432]\n\tOrdinal0 [0x0086682C+1665068]\n\tOrdinal0 [0x0086B128+1683752]\n\tOrdinal0 [0x0086B215+1683989]\n\tOrdinal0 [0x00876484+1729668]\n\tBaseThreadInitThunk [0x75206939+25]\n\tRtlGetFullPathName_UEx [0x77478FD2+1218]\n\tRtlGetFullPathName_UEx [0x77478F9D+1165]\n",
     "output_type": "error",
     "traceback": [
      "\u001b[1;31m---------------------------------------------------------------------------\u001b[0m",
      "\u001b[1;31mStaleElementReferenceException\u001b[0m            Traceback (most recent call last)",
      "Input \u001b[1;32mIn [56]\u001b[0m, in \u001b[0;36m<cell line: 1>\u001b[1;34m()\u001b[0m\n\u001b[1;32m----> 1\u001b[0m \u001b[43mewg\u001b[49m\u001b[38;5;241;43m.\u001b[39;49m\u001b[43mtext\u001b[49m\n",
      "File \u001b[1;32m~\\anaconda3\\lib\\site-packages\\selenium\\webdriver\\remote\\webelement.py:84\u001b[0m, in \u001b[0;36mWebElement.text\u001b[1;34m(self)\u001b[0m\n\u001b[0;32m     81\u001b[0m \u001b[38;5;129m@property\u001b[39m\n\u001b[0;32m     82\u001b[0m \u001b[38;5;28;01mdef\u001b[39;00m \u001b[38;5;21mtext\u001b[39m(\u001b[38;5;28mself\u001b[39m) \u001b[38;5;241m-\u001b[39m\u001b[38;5;241m>\u001b[39m \u001b[38;5;28mstr\u001b[39m:\n\u001b[0;32m     83\u001b[0m     \u001b[38;5;124;03m\"\"\"The text of the element.\"\"\"\u001b[39;00m\n\u001b[1;32m---> 84\u001b[0m     \u001b[38;5;28;01mreturn\u001b[39;00m \u001b[38;5;28;43mself\u001b[39;49m\u001b[38;5;241;43m.\u001b[39;49m\u001b[43m_execute\u001b[49m\u001b[43m(\u001b[49m\u001b[43mCommand\u001b[49m\u001b[38;5;241;43m.\u001b[39;49m\u001b[43mGET_ELEMENT_TEXT\u001b[49m\u001b[43m)\u001b[49m[\u001b[38;5;124m'\u001b[39m\u001b[38;5;124mvalue\u001b[39m\u001b[38;5;124m'\u001b[39m]\n",
      "File \u001b[1;32m~\\anaconda3\\lib\\site-packages\\selenium\\webdriver\\remote\\webelement.py:396\u001b[0m, in \u001b[0;36mWebElement._execute\u001b[1;34m(self, command, params)\u001b[0m\n\u001b[0;32m    394\u001b[0m     params \u001b[38;5;241m=\u001b[39m {}\n\u001b[0;32m    395\u001b[0m params[\u001b[38;5;124m'\u001b[39m\u001b[38;5;124mid\u001b[39m\u001b[38;5;124m'\u001b[39m] \u001b[38;5;241m=\u001b[39m \u001b[38;5;28mself\u001b[39m\u001b[38;5;241m.\u001b[39m_id\n\u001b[1;32m--> 396\u001b[0m \u001b[38;5;28;01mreturn\u001b[39;00m \u001b[38;5;28;43mself\u001b[39;49m\u001b[38;5;241;43m.\u001b[39;49m\u001b[43m_parent\u001b[49m\u001b[38;5;241;43m.\u001b[39;49m\u001b[43mexecute\u001b[49m\u001b[43m(\u001b[49m\u001b[43mcommand\u001b[49m\u001b[43m,\u001b[49m\u001b[43m \u001b[49m\u001b[43mparams\u001b[49m\u001b[43m)\u001b[49m\n",
      "File \u001b[1;32m~\\anaconda3\\lib\\site-packages\\selenium\\webdriver\\remote\\webdriver.py:435\u001b[0m, in \u001b[0;36mWebDriver.execute\u001b[1;34m(self, driver_command, params)\u001b[0m\n\u001b[0;32m    433\u001b[0m response \u001b[38;5;241m=\u001b[39m \u001b[38;5;28mself\u001b[39m\u001b[38;5;241m.\u001b[39mcommand_executor\u001b[38;5;241m.\u001b[39mexecute(driver_command, params)\n\u001b[0;32m    434\u001b[0m \u001b[38;5;28;01mif\u001b[39;00m response:\n\u001b[1;32m--> 435\u001b[0m     \u001b[38;5;28;43mself\u001b[39;49m\u001b[38;5;241;43m.\u001b[39;49m\u001b[43merror_handler\u001b[49m\u001b[38;5;241;43m.\u001b[39;49m\u001b[43mcheck_response\u001b[49m\u001b[43m(\u001b[49m\u001b[43mresponse\u001b[49m\u001b[43m)\u001b[49m\n\u001b[0;32m    436\u001b[0m     response[\u001b[38;5;124m'\u001b[39m\u001b[38;5;124mvalue\u001b[39m\u001b[38;5;124m'\u001b[39m] \u001b[38;5;241m=\u001b[39m \u001b[38;5;28mself\u001b[39m\u001b[38;5;241m.\u001b[39m_unwrap_value(\n\u001b[0;32m    437\u001b[0m         response\u001b[38;5;241m.\u001b[39mget(\u001b[38;5;124m'\u001b[39m\u001b[38;5;124mvalue\u001b[39m\u001b[38;5;124m'\u001b[39m, \u001b[38;5;28;01mNone\u001b[39;00m))\n\u001b[0;32m    438\u001b[0m     \u001b[38;5;28;01mreturn\u001b[39;00m response\n",
      "File \u001b[1;32m~\\anaconda3\\lib\\site-packages\\selenium\\webdriver\\remote\\errorhandler.py:247\u001b[0m, in \u001b[0;36mErrorHandler.check_response\u001b[1;34m(self, response)\u001b[0m\n\u001b[0;32m    245\u001b[0m         alert_text \u001b[38;5;241m=\u001b[39m value[\u001b[38;5;124m'\u001b[39m\u001b[38;5;124malert\u001b[39m\u001b[38;5;124m'\u001b[39m]\u001b[38;5;241m.\u001b[39mget(\u001b[38;5;124m'\u001b[39m\u001b[38;5;124mtext\u001b[39m\u001b[38;5;124m'\u001b[39m)\n\u001b[0;32m    246\u001b[0m     \u001b[38;5;28;01mraise\u001b[39;00m exception_class(message, screen, stacktrace, alert_text)  \u001b[38;5;66;03m# type: ignore[call-arg]  # mypy is not smart enough here\u001b[39;00m\n\u001b[1;32m--> 247\u001b[0m \u001b[38;5;28;01mraise\u001b[39;00m exception_class(message, screen, stacktrace)\n",
      "\u001b[1;31mStaleElementReferenceException\u001b[0m: Message: stale element reference: element is not attached to the page document\n  (Session info: chrome=107.0.5304.107)\nStacktrace:\nBacktrace:\n\tOrdinal0 [0x008CACD3+2075859]\n\tOrdinal0 [0x0085EE61+1633889]\n\tOrdinal0 [0x0075B7BD+571325]\n\tOrdinal0 [0x0075E374+582516]\n\tOrdinal0 [0x0075E225+582181]\n\tOrdinal0 [0x0075E4C0+582848]\n\tOrdinal0 [0x00786847+747591]\n\tOrdinal0 [0x007A731C+881436]\n\tOrdinal0 [0x007815BF+726463]\n\tOrdinal0 [0x007A7534+881972]\n\tOrdinal0 [0x007BB56A+963946]\n\tOrdinal0 [0x007A7136+880950]\n\tOrdinal0 [0x0077FEFD+720637]\n\tOrdinal0 [0x00780F3F+724799]\n\tGetHandleVerifier [0x00B7EED2+2769538]\n\tGetHandleVerifier [0x00B70D95+2711877]\n\tGetHandleVerifier [0x0095A03A+521194]\n\tGetHandleVerifier [0x00958DA0+516432]\n\tOrdinal0 [0x0086682C+1665068]\n\tOrdinal0 [0x0086B128+1683752]\n\tOrdinal0 [0x0086B215+1683989]\n\tOrdinal0 [0x00876484+1729668]\n\tBaseThreadInitThunk [0x75206939+25]\n\tRtlGetFullPathName_UEx [0x77478FD2+1218]\n\tRtlGetFullPathName_UEx [0x77478F9D+1165]\n"
     ]
    }
   ],
   "source": [
    "ewg.text"
   ]
  },
  {
   "cell_type": "code",
   "execution_count": 57,
   "id": "f41d929d",
   "metadata": {
    "scrolled": true
   },
   "outputs": [
    {
     "data": {
      "text/plain": [
       "'닿는 순간 착, 쫀쫀한 찰떡 수분크림\\n\\n- 과학적으로 설계한 겔 속 수분과 영양\\n- 48시간 보습, 확실하게 지속 효과 임상 완료\\n- 쫀쫀한 보습감과 밀림없는 산뜻한 마무리'"
      ]
     },
     "execution_count": 57,
     "metadata": {},
     "output_type": "execute_result"
    }
   ],
   "source": [
    "product.text"
   ]
  },
  {
   "cell_type": "code",
   "execution_count": 58,
   "id": "72869409",
   "metadata": {},
   "outputs": [],
   "source": [
    "driver.back()"
   ]
  },
  {
   "cell_type": "code",
   "execution_count": 3,
   "id": "2fdbca36",
   "metadata": {
    "scrolled": true
   },
   "outputs": [],
   "source": [
    "from selenium import webdriver as wb\n",
    "from selenium.webdriver.common.keys import Keys\n",
    "from selenium.webdriver.common.by import By\n",
    "import time\n",
    "\n",
    "# --전체 테스트---\n",
    "driver = wb.Chrome()\n",
    "driver.maximize_window()\n",
    "driver.get('https://www.glowpick.com/searches/keywords')\n",
    "ewg_list = []\n",
    "title_list = []\n",
    "product_list = []\n",
    "time.sleep(0.5)\n",
    "che = driver.find_element(By.CLASS_NAME, 'buttons__button.buttons__not-today')\n",
    "che.click()\n",
    "search = driver.find_element(By.CLASS_NAME,'header__input.copyable') \n",
    "search.send_keys('수분크림')\n",
    "search.send_keys(Keys.ENTER)\n",
    "\n",
    "for i in range(50):\n",
    "    body = driver.find_element(By.TAG_NAME, 'body')\n",
    "    body.send_keys(Keys.END)\n",
    "    time.sleep(0.5)\n",
    "\n",
    "last_height = driver.execute_script(\"return document.body.scrollHeight\")\n",
    "# 스크롤 위로 올리기\n",
    "driver.execute_script(\"window.scrollTo(0,0)\")\n",
    "\n",
    "for i in range(2):    \n",
    "    # 상품 클릭 / 상세 정보페이지\n",
    "    time.sleep(1)\n",
    "    imgs2 = driver.find_elements(By.CLASS_NAME, 'font-normal')\n",
    "    imgs2[i].click()\n",
    "    time.sleep(0.5)\n",
    "    # 제품 이름 갖고 오기\n",
    "    title = driver.find_element(By.CLASS_NAME, 'product__summary__name')\n",
    "    title_list.append(title.text)\n",
    "    # 스크롤 한 번 내리기\n",
    "    driver.execute_script(\"window.scrollTo(0,200)\")\n",
    "    time.sleep(0.5)\n",
    "    che2 = driver.find_element(By.CLASS_NAME, 'info__article__h3__button')\n",
    "    che2.click()\n",
    "    time.sleep(0.5)\n",
    "    ewg = driver.find_elements(By.CLASS_NAME, 'item__wrapper')\n",
    "    for i in ewg:\n",
    "        ewg_list.append(i.text)\n",
    "    # 스크롤 위로 올리기\n",
    "    driver.execute_script(\"window.scrollTo(0,0)\")\n",
    "    che3 = driver.find_element(By.CLASS_NAME, 'details__contents__h1__button')\n",
    "    che3.click()\n",
    "    time.sleep(0.5)\n",
    "    product = driver.find_element(By.CLASS_NAME, 'info__text.description__text')\n",
    "    product_list.append(product.text)\n",
    "    driver.back()"
   ]
  },
  {
   "cell_type": "code",
   "execution_count": 96,
   "id": "eb066675",
   "metadata": {},
   "outputs": [
    {
     "name": "stdout",
     "output_type": "stream",
     "text": [
      "['모이스처 밸런싱 크림', '워터풀 히알루론산 크림']\n",
      "['1\\n정제수\\nWater;Aqua\\n피부컨디셔닝제, 용제', '1-2\\n글리세린\\nGlycerin\\n변성제, 착향제, 헤어컨디셔닝제, 보습제, 피부보호제, 피부컨디셔닝제(보습제), 점도감소제', '1\\n부틸렌글라이콜\\nButylene Glycol\\n착향제, 피부컨디셔닝제, 용제, 점도감소제', '2\\n하이드로제네이티드폴리데센\\nHydrogenated Polydecene\\n향료, 모발컨디셔닝제, 피부유연화제, 피부컨디셔닝제, 용제', '1\\n펜틸렌글라이콜\\nPentylene Glycol\\n피부컨디셔닝제, 용제', '1\\n세테아릴알코올\\nCetearyl Alcohol\\n유화안정제, 불투명화제, 계면활성제-거품형성제, 점증제-수용성, 점증제-비수용성', '1\\n비닐다이메티콘\\nVinyl Dimethicone', '1\\n하이드로제네이티드폴리(C6-14올레핀)\\nHydrogenated Poly(C6-14 Olefin)\\n피부컨디셔닝제(수분차단제), 점도증가제(비수성)', '1\\n1,2-헥산다이올\\n1,2-Hexanediol\\n용제', '1\\n아이리쉬모스추출물\\nChondrus Crispus Extract\\n피부컨디셔닝제(기타)', '1\\n클로렐라 불가리스추출물\\nChlorella Vulgaris Extract\\n피부컨디셔닝제(기타)', '1\\n사탕수수추출물\\nSaccharum Officinarum (Sugarcane) Extract\\n각질제거제, 피부컨디셔닝제', '백미꽃추출물\\nVincetoxicum Atratum Extract;Cynanchum Atratum Extract\\n피부컨디셔닝제(기타)', '1\\n작약꽃추출물\\nPaeonia Albiflora Flower Extract;Paeonia Lactiflora Flower Extract\\n피부컨디셔닝제(기타)', '1\\n접시꽃추출물\\nAlthaea Rosea Flower Extract\\n피부컨디셔닝제(기타)', '1\\n황련뿌리추출물\\nCoptis Japonica Root Extract\\n피부컨디셔닝제(기타)', '1\\n황벽나무껍질추출물\\nPhellodendron Amurense Bark Extract;Oubaku Ekisu\\n피부컨디셔닝제(기타)', '1\\n황금추출물\\nScutellaria Baicalensis Root Extract\\n피부컨디셔닝제(보습제)', '1\\n참당귀뿌리추출물\\nAngelica Gigas Root Extract\\n헤어컨디셔닝제, 퍼머넌트웨이브용제/헤어스트레이트너용제, 피부컨디셔닝제(기타)', '1\\n쑥잎추출물\\nArtemisia Princeps Leaf Extract\\n피부컨디셔닝제(기타)', '1\\n황기뿌리추출물\\nAstragalus Membranaceus Root Extract\\n피부컨디셔닝제(유연제), 피부컨디셔닝제(기타)', '1\\n잇꽃꽃추출물\\nCarthamus Tinctorius (Safflower) Flower Extract\\n피부컨디셔닝제(기타)', '1\\n천궁뿌리추출물\\nCnidium Officinale Root Extract\\n피부컨디셔닝제(기타)', '1\\n스페인감초뿌리추출물\\nGlycyrrhiza Glabra (Licorice) Root Extract\\n산화방지제, 피부컨디셔닝제(보습제), 피부컨디셔닝제(기타)', '1\\n소엽맥문동뿌리추출물\\nOphiopogon Japonicus Root Extract\\n피부컨디셔닝제(기타)', '인동덩굴꽃추출물\\nLonicera Japonica (Honeysuckle) Flower Extract\\n피부컨디셔닝제(기타)', '1\\n다이-C12-13알킬말레이트\\nDI-C12-13 Alkyl Malate\\n피부컨디셔닝제(유연제)', '1\\n폴리글리세릴-3메틸글루코오스다이스테아레이트\\nPolyglyceryl-3 Methylglucose Distearate\\n피부컨디셔닝제(유연제), 계면활성제(유화제)', '1-2\\n소듐폴리아크릴레이트\\nSodium Polyacrylate\\n흡수제, 유화안정제, 피막형성제, 모발고정제, 피부유연화제, 점도조절제, 점증제-수용성', '1\\n글리세릴스테아레이트\\nGlyceryl Stearate\\n착향제, 피부컨디셔닝제(유연제), 계면활성제(유화제)', '1\\n폴리메틸실세스퀴옥세인\\nPolymethylsilsesquioxane\\n불투명화제', '1\\n하이드록시아세토페논\\nHydroxyacetophenone\\n산화방지제', '1\\n글루코오스\\nGlucose\\n감미제, 보습제, 피부컨디셔닝제(보습제), 피부컨디셔닝제(기타)', '2\\n트로메타민\\nTromethamine\\n착향제, pH 조절제', '1\\n다이포타슘글리시리제이트\\nDipotassium Glycyrrhizate\\n감미제, 피부컨디셔닝제(기타)', '1\\n프룩토올리고사카라이드\\nFructooligosaccharides\\n피부컨디셔닝제(보습제)', '1\\n프룩토오스\\nFructose\\n감미제, 보습제, 피부보습제', '2\\n하이드로제네이티드레시틴\\nHydrogenated Lecithin\\n계면활성제-유화제, 현탁화제-비계면활성제, 피부컨디셔닝제', '1\\n글리세릴아크릴레이트/아크릴릭애씨드코폴리머\\nGlyceryl Acrylate/Acrylic Acid Copolymer\\n피부컨디셔닝제(보습제), 점도증가제(수성)', '1\\n피브이엠/엠에이코폴리머\\nPVM/MA Copolymer\\n결합제, 유화안정제, 피막형성제, 모발고정제, 현탁화제-비계면활성제', '1\\n소듐파이테이트\\nSodium Phytate\\n금속이온봉쇄제', '1\\n에틸헥실글리세린\\nEthylhexylglycerin\\n피부컨디셔닝제(기타)', '1\\n토코페롤\\nTocopherol\\n산화방지제, 착향제, 피부컨디셔닝제, 수분증발차단제', '에틸헥산다이올\\nEthyl Hexanediol\\n착향제, 용제', '1\\n카보머\\nCarbomer\\n유화안정제, 점증제-수용성', '1\\n치자추출물\\nGardenia Florida Fruit Extract;Gardenia Jasminoides Fruit Extract\\n피부컨디셔닝제', '8\\n향료\\nFragrance;Perfume;Parfum\\n착향제', '3\\n리날룰\\nLinalool\\n착향제', '3\\n헥실신남알\\nHexyl Cinnamal\\n착향제', '6\\n벤질벤조에이트\\nBenzyl Benzoate\\n착향제, 용제', '4-5\\n리모넨\\nLimonene\\n착향제, 용제', '7\\n하이드록시시트로넬알\\nHydroxycitronellal\\n착향제']\n",
      "['닿는 순간 착, 쫀쫀한 찰떡 수분크림\\n\\n- 과학적으로 설계한 겔 속 수분과 영양\\n- 48시간 보습, 확실하게 지속 효과 임상 완료\\n- 쫀쫀한 보습감과 밀림없는 산뜻한 마무리', '피부 갈증을 채우는 #수분길크림\\n\\n- 3중 히알루론산으로 피부 깊숙한 곳 부터 수분 공급\\n- 5가지 발효 추출물로 영양 가득한 피부 장벽\\n- 수분감 가득한 가벼운 제형으로 수부지 피부에 추천']\n"
     ]
    }
   ],
   "source": [
    "print(title_list)\n",
    "print(ewg_list)\n",
    "print(product_list)"
   ]
  },
  {
   "cell_type": "code",
   "execution_count": 97,
   "id": "d17746df",
   "metadata": {},
   "outputs": [
    {
     "name": "stdout",
     "output_type": "stream",
     "text": [
      "피부 갈증을 채우는 #수분길크림\n",
      "\n",
      "- 3중 히알루론산으로 피부 깊숙한 곳 부터 수분 공급\n",
      "- 5가지 발효 추출물로 영양 가득한 피부 장벽\n",
      "- 수분감 가득한 가벼운 제형으로 수부지 피부에 추천\n"
     ]
    }
   ],
   "source": [
    "print(product_list[1])"
   ]
  },
  {
   "cell_type": "code",
   "execution_count": null,
   "id": "471a5be8",
   "metadata": {},
   "outputs": [],
   "source": []
  },
  {
   "cell_type": "code",
   "execution_count": null,
   "id": "af0ca3ee",
   "metadata": {},
   "outputs": [],
   "source": [
    "import pandas as pd"
   ]
  },
  {
   "cell_type": "code",
   "execution_count": 91,
   "id": "ef72149f",
   "metadata": {
    "scrolled": true
   },
   "outputs": [
    {
     "ename": "UnicodeEncodeError",
     "evalue": "'euc_kr' codec can't encode character '\\u2219' in position 40: illegal multibyte sequence",
     "output_type": "error",
     "traceback": [
      "\u001b[1;31m---------------------------------------------------------------------------\u001b[0m",
      "\u001b[1;31mUnicodeEncodeError\u001b[0m                        Traceback (most recent call last)",
      "Input \u001b[1;32mIn [91]\u001b[0m, in \u001b[0;36m<cell line: 3>\u001b[1;34m()\u001b[0m\n\u001b[0;32m      1\u001b[0m dic\u001b[38;5;241m=\u001b[39m {\u001b[38;5;124m'\u001b[39m\u001b[38;5;124m상품명\u001b[39m\u001b[38;5;124m'\u001b[39m:title_list, \u001b[38;5;124m'\u001b[39m\u001b[38;5;124m상품소개\u001b[39m\u001b[38;5;124m'\u001b[39m:product_list}\n\u001b[0;32m      2\u001b[0m df \u001b[38;5;241m=\u001b[39m pd\u001b[38;5;241m.\u001b[39mDataFrame(dic)\n\u001b[1;32m----> 3\u001b[0m \u001b[43mdf\u001b[49m\u001b[38;5;241;43m.\u001b[39;49m\u001b[43mto_csv\u001b[49m\u001b[43m(\u001b[49m\u001b[38;5;124;43m'\u001b[39;49m\u001b[38;5;124;43mgp.csv\u001b[39;49m\u001b[38;5;124;43m'\u001b[39;49m\u001b[43m,\u001b[49m\u001b[43m \u001b[49m\u001b[43mencoding\u001b[49m\u001b[38;5;241;43m=\u001b[39;49m\u001b[43m \u001b[49m\u001b[38;5;124;43m'\u001b[39;49m\u001b[38;5;124;43meuc-kr\u001b[39;49m\u001b[38;5;124;43m'\u001b[39;49m\u001b[43m)\u001b[49m\n",
      "File \u001b[1;32m~\\anaconda3\\lib\\site-packages\\pandas\\core\\generic.py:3551\u001b[0m, in \u001b[0;36mNDFrame.to_csv\u001b[1;34m(self, path_or_buf, sep, na_rep, float_format, columns, header, index, index_label, mode, encoding, compression, quoting, quotechar, line_terminator, chunksize, date_format, doublequote, escapechar, decimal, errors, storage_options)\u001b[0m\n\u001b[0;32m   3540\u001b[0m df \u001b[38;5;241m=\u001b[39m \u001b[38;5;28mself\u001b[39m \u001b[38;5;28;01mif\u001b[39;00m \u001b[38;5;28misinstance\u001b[39m(\u001b[38;5;28mself\u001b[39m, ABCDataFrame) \u001b[38;5;28;01melse\u001b[39;00m \u001b[38;5;28mself\u001b[39m\u001b[38;5;241m.\u001b[39mto_frame()\n\u001b[0;32m   3542\u001b[0m formatter \u001b[38;5;241m=\u001b[39m DataFrameFormatter(\n\u001b[0;32m   3543\u001b[0m     frame\u001b[38;5;241m=\u001b[39mdf,\n\u001b[0;32m   3544\u001b[0m     header\u001b[38;5;241m=\u001b[39mheader,\n\u001b[1;32m   (...)\u001b[0m\n\u001b[0;32m   3548\u001b[0m     decimal\u001b[38;5;241m=\u001b[39mdecimal,\n\u001b[0;32m   3549\u001b[0m )\n\u001b[1;32m-> 3551\u001b[0m \u001b[38;5;28;01mreturn\u001b[39;00m \u001b[43mDataFrameRenderer\u001b[49m\u001b[43m(\u001b[49m\u001b[43mformatter\u001b[49m\u001b[43m)\u001b[49m\u001b[38;5;241;43m.\u001b[39;49m\u001b[43mto_csv\u001b[49m\u001b[43m(\u001b[49m\n\u001b[0;32m   3552\u001b[0m \u001b[43m    \u001b[49m\u001b[43mpath_or_buf\u001b[49m\u001b[43m,\u001b[49m\n\u001b[0;32m   3553\u001b[0m \u001b[43m    \u001b[49m\u001b[43mline_terminator\u001b[49m\u001b[38;5;241;43m=\u001b[39;49m\u001b[43mline_terminator\u001b[49m\u001b[43m,\u001b[49m\n\u001b[0;32m   3554\u001b[0m \u001b[43m    \u001b[49m\u001b[43msep\u001b[49m\u001b[38;5;241;43m=\u001b[39;49m\u001b[43msep\u001b[49m\u001b[43m,\u001b[49m\n\u001b[0;32m   3555\u001b[0m \u001b[43m    \u001b[49m\u001b[43mencoding\u001b[49m\u001b[38;5;241;43m=\u001b[39;49m\u001b[43mencoding\u001b[49m\u001b[43m,\u001b[49m\n\u001b[0;32m   3556\u001b[0m \u001b[43m    \u001b[49m\u001b[43merrors\u001b[49m\u001b[38;5;241;43m=\u001b[39;49m\u001b[43merrors\u001b[49m\u001b[43m,\u001b[49m\n\u001b[0;32m   3557\u001b[0m \u001b[43m    \u001b[49m\u001b[43mcompression\u001b[49m\u001b[38;5;241;43m=\u001b[39;49m\u001b[43mcompression\u001b[49m\u001b[43m,\u001b[49m\n\u001b[0;32m   3558\u001b[0m \u001b[43m    \u001b[49m\u001b[43mquoting\u001b[49m\u001b[38;5;241;43m=\u001b[39;49m\u001b[43mquoting\u001b[49m\u001b[43m,\u001b[49m\n\u001b[0;32m   3559\u001b[0m \u001b[43m    \u001b[49m\u001b[43mcolumns\u001b[49m\u001b[38;5;241;43m=\u001b[39;49m\u001b[43mcolumns\u001b[49m\u001b[43m,\u001b[49m\n\u001b[0;32m   3560\u001b[0m \u001b[43m    \u001b[49m\u001b[43mindex_label\u001b[49m\u001b[38;5;241;43m=\u001b[39;49m\u001b[43mindex_label\u001b[49m\u001b[43m,\u001b[49m\n\u001b[0;32m   3561\u001b[0m \u001b[43m    \u001b[49m\u001b[43mmode\u001b[49m\u001b[38;5;241;43m=\u001b[39;49m\u001b[43mmode\u001b[49m\u001b[43m,\u001b[49m\n\u001b[0;32m   3562\u001b[0m \u001b[43m    \u001b[49m\u001b[43mchunksize\u001b[49m\u001b[38;5;241;43m=\u001b[39;49m\u001b[43mchunksize\u001b[49m\u001b[43m,\u001b[49m\n\u001b[0;32m   3563\u001b[0m \u001b[43m    \u001b[49m\u001b[43mquotechar\u001b[49m\u001b[38;5;241;43m=\u001b[39;49m\u001b[43mquotechar\u001b[49m\u001b[43m,\u001b[49m\n\u001b[0;32m   3564\u001b[0m \u001b[43m    \u001b[49m\u001b[43mdate_format\u001b[49m\u001b[38;5;241;43m=\u001b[39;49m\u001b[43mdate_format\u001b[49m\u001b[43m,\u001b[49m\n\u001b[0;32m   3565\u001b[0m \u001b[43m    \u001b[49m\u001b[43mdoublequote\u001b[49m\u001b[38;5;241;43m=\u001b[39;49m\u001b[43mdoublequote\u001b[49m\u001b[43m,\u001b[49m\n\u001b[0;32m   3566\u001b[0m \u001b[43m    \u001b[49m\u001b[43mescapechar\u001b[49m\u001b[38;5;241;43m=\u001b[39;49m\u001b[43mescapechar\u001b[49m\u001b[43m,\u001b[49m\n\u001b[0;32m   3567\u001b[0m \u001b[43m    \u001b[49m\u001b[43mstorage_options\u001b[49m\u001b[38;5;241;43m=\u001b[39;49m\u001b[43mstorage_options\u001b[49m\u001b[43m,\u001b[49m\n\u001b[0;32m   3568\u001b[0m \u001b[43m\u001b[49m\u001b[43m)\u001b[49m\n",
      "File \u001b[1;32m~\\anaconda3\\lib\\site-packages\\pandas\\io\\formats\\format.py:1180\u001b[0m, in \u001b[0;36mDataFrameRenderer.to_csv\u001b[1;34m(self, path_or_buf, encoding, sep, columns, index_label, mode, compression, quoting, quotechar, line_terminator, chunksize, date_format, doublequote, escapechar, errors, storage_options)\u001b[0m\n\u001b[0;32m   1159\u001b[0m     created_buffer \u001b[38;5;241m=\u001b[39m \u001b[38;5;28;01mFalse\u001b[39;00m\n\u001b[0;32m   1161\u001b[0m csv_formatter \u001b[38;5;241m=\u001b[39m CSVFormatter(\n\u001b[0;32m   1162\u001b[0m     path_or_buf\u001b[38;5;241m=\u001b[39mpath_or_buf,\n\u001b[0;32m   1163\u001b[0m     line_terminator\u001b[38;5;241m=\u001b[39mline_terminator,\n\u001b[1;32m   (...)\u001b[0m\n\u001b[0;32m   1178\u001b[0m     formatter\u001b[38;5;241m=\u001b[39m\u001b[38;5;28mself\u001b[39m\u001b[38;5;241m.\u001b[39mfmt,\n\u001b[0;32m   1179\u001b[0m )\n\u001b[1;32m-> 1180\u001b[0m \u001b[43mcsv_formatter\u001b[49m\u001b[38;5;241;43m.\u001b[39;49m\u001b[43msave\u001b[49m\u001b[43m(\u001b[49m\u001b[43m)\u001b[49m\n\u001b[0;32m   1182\u001b[0m \u001b[38;5;28;01mif\u001b[39;00m created_buffer:\n\u001b[0;32m   1183\u001b[0m     \u001b[38;5;28;01massert\u001b[39;00m \u001b[38;5;28misinstance\u001b[39m(path_or_buf, StringIO)\n",
      "File \u001b[1;32m~\\anaconda3\\lib\\site-packages\\pandas\\io\\formats\\csvs.py:261\u001b[0m, in \u001b[0;36mCSVFormatter.save\u001b[1;34m(self)\u001b[0m\n\u001b[0;32m    241\u001b[0m \u001b[38;5;28;01mwith\u001b[39;00m get_handle(\n\u001b[0;32m    242\u001b[0m     \u001b[38;5;28mself\u001b[39m\u001b[38;5;241m.\u001b[39mfilepath_or_buffer,\n\u001b[0;32m    243\u001b[0m     \u001b[38;5;28mself\u001b[39m\u001b[38;5;241m.\u001b[39mmode,\n\u001b[1;32m   (...)\u001b[0m\n\u001b[0;32m    249\u001b[0m \n\u001b[0;32m    250\u001b[0m     \u001b[38;5;66;03m# Note: self.encoding is irrelevant here\u001b[39;00m\n\u001b[0;32m    251\u001b[0m     \u001b[38;5;28mself\u001b[39m\u001b[38;5;241m.\u001b[39mwriter \u001b[38;5;241m=\u001b[39m csvlib\u001b[38;5;241m.\u001b[39mwriter(\n\u001b[0;32m    252\u001b[0m         handles\u001b[38;5;241m.\u001b[39mhandle,\n\u001b[0;32m    253\u001b[0m         lineterminator\u001b[38;5;241m=\u001b[39m\u001b[38;5;28mself\u001b[39m\u001b[38;5;241m.\u001b[39mline_terminator,\n\u001b[1;32m   (...)\u001b[0m\n\u001b[0;32m    258\u001b[0m         quotechar\u001b[38;5;241m=\u001b[39m\u001b[38;5;28mself\u001b[39m\u001b[38;5;241m.\u001b[39mquotechar,\n\u001b[0;32m    259\u001b[0m     )\n\u001b[1;32m--> 261\u001b[0m     \u001b[38;5;28;43mself\u001b[39;49m\u001b[38;5;241;43m.\u001b[39;49m\u001b[43m_save\u001b[49m\u001b[43m(\u001b[49m\u001b[43m)\u001b[49m\n",
      "File \u001b[1;32m~\\anaconda3\\lib\\site-packages\\pandas\\io\\formats\\csvs.py:266\u001b[0m, in \u001b[0;36mCSVFormatter._save\u001b[1;34m(self)\u001b[0m\n\u001b[0;32m    264\u001b[0m \u001b[38;5;28;01mif\u001b[39;00m \u001b[38;5;28mself\u001b[39m\u001b[38;5;241m.\u001b[39m_need_to_save_header:\n\u001b[0;32m    265\u001b[0m     \u001b[38;5;28mself\u001b[39m\u001b[38;5;241m.\u001b[39m_save_header()\n\u001b[1;32m--> 266\u001b[0m \u001b[38;5;28;43mself\u001b[39;49m\u001b[38;5;241;43m.\u001b[39;49m\u001b[43m_save_body\u001b[49m\u001b[43m(\u001b[49m\u001b[43m)\u001b[49m\n",
      "File \u001b[1;32m~\\anaconda3\\lib\\site-packages\\pandas\\io\\formats\\csvs.py:304\u001b[0m, in \u001b[0;36mCSVFormatter._save_body\u001b[1;34m(self)\u001b[0m\n\u001b[0;32m    302\u001b[0m \u001b[38;5;28;01mif\u001b[39;00m start_i \u001b[38;5;241m>\u001b[39m\u001b[38;5;241m=\u001b[39m end_i:\n\u001b[0;32m    303\u001b[0m     \u001b[38;5;28;01mbreak\u001b[39;00m\n\u001b[1;32m--> 304\u001b[0m \u001b[38;5;28;43mself\u001b[39;49m\u001b[38;5;241;43m.\u001b[39;49m\u001b[43m_save_chunk\u001b[49m\u001b[43m(\u001b[49m\u001b[43mstart_i\u001b[49m\u001b[43m,\u001b[49m\u001b[43m \u001b[49m\u001b[43mend_i\u001b[49m\u001b[43m)\u001b[49m\n",
      "File \u001b[1;32m~\\anaconda3\\lib\\site-packages\\pandas\\io\\formats\\csvs.py:315\u001b[0m, in \u001b[0;36mCSVFormatter._save_chunk\u001b[1;34m(self, start_i, end_i)\u001b[0m\n\u001b[0;32m    312\u001b[0m data \u001b[38;5;241m=\u001b[39m [res\u001b[38;5;241m.\u001b[39miget_values(i) \u001b[38;5;28;01mfor\u001b[39;00m i \u001b[38;5;129;01min\u001b[39;00m \u001b[38;5;28mrange\u001b[39m(\u001b[38;5;28mlen\u001b[39m(res\u001b[38;5;241m.\u001b[39mitems))]\n\u001b[0;32m    314\u001b[0m ix \u001b[38;5;241m=\u001b[39m \u001b[38;5;28mself\u001b[39m\u001b[38;5;241m.\u001b[39mdata_index[slicer]\u001b[38;5;241m.\u001b[39m_format_native_types(\u001b[38;5;241m*\u001b[39m\u001b[38;5;241m*\u001b[39m\u001b[38;5;28mself\u001b[39m\u001b[38;5;241m.\u001b[39m_number_format)\n\u001b[1;32m--> 315\u001b[0m \u001b[43mlibwriters\u001b[49m\u001b[38;5;241;43m.\u001b[39;49m\u001b[43mwrite_csv_rows\u001b[49m\u001b[43m(\u001b[49m\n\u001b[0;32m    316\u001b[0m \u001b[43m    \u001b[49m\u001b[43mdata\u001b[49m\u001b[43m,\u001b[49m\n\u001b[0;32m    317\u001b[0m \u001b[43m    \u001b[49m\u001b[43mix\u001b[49m\u001b[43m,\u001b[49m\n\u001b[0;32m    318\u001b[0m \u001b[43m    \u001b[49m\u001b[38;5;28;43mself\u001b[39;49m\u001b[38;5;241;43m.\u001b[39;49m\u001b[43mnlevels\u001b[49m\u001b[43m,\u001b[49m\n\u001b[0;32m    319\u001b[0m \u001b[43m    \u001b[49m\u001b[38;5;28;43mself\u001b[39;49m\u001b[38;5;241;43m.\u001b[39;49m\u001b[43mcols\u001b[49m\u001b[43m,\u001b[49m\n\u001b[0;32m    320\u001b[0m \u001b[43m    \u001b[49m\u001b[38;5;28;43mself\u001b[39;49m\u001b[38;5;241;43m.\u001b[39;49m\u001b[43mwriter\u001b[49m\u001b[43m,\u001b[49m\n\u001b[0;32m    321\u001b[0m \u001b[43m\u001b[49m\u001b[43m)\u001b[49m\n",
      "File \u001b[1;32m~\\anaconda3\\lib\\site-packages\\pandas\\_libs\\writers.pyx:75\u001b[0m, in \u001b[0;36mpandas._libs.writers.write_csv_rows\u001b[1;34m()\u001b[0m\n",
      "\u001b[1;31mUnicodeEncodeError\u001b[0m: 'euc_kr' codec can't encode character '\\u2219' in position 40: illegal multibyte sequence"
     ]
    }
   ],
   "source": [
    "dic= {'상품명':title_list, '상품소개':product_list, , EWG등급':ewg_list}\n",
    "df = pd.DataFrame(dic)\n",
    "df.to_csv('gp.csv', encoding= 'euc-kr')"
   ]
  },
  {
   "cell_type": "code",
   "execution_count": 4,
   "id": "c76c096f",
   "metadata": {},
   "outputs": [
    {
     "ename": "KeyboardInterrupt",
     "evalue": "",
     "output_type": "error",
     "traceback": [
      "\u001b[1;31m---------------------------------------------------------------------------\u001b[0m",
      "\u001b[1;31mKeyboardInterrupt\u001b[0m                         Traceback (most recent call last)",
      "Input \u001b[1;32mIn [4]\u001b[0m, in \u001b[0;36m<cell line: 29>\u001b[1;34m()\u001b[0m\n\u001b[0;32m     29\u001b[0m \u001b[38;5;28;01mfor\u001b[39;00m i \u001b[38;5;129;01min\u001b[39;00m \u001b[38;5;28mrange\u001b[39m(\u001b[38;5;241m50\u001b[39m):    \n\u001b[0;32m     30\u001b[0m     \u001b[38;5;66;03m# 상품 클릭 / 상세 정보페이지\u001b[39;00m\n\u001b[0;32m     31\u001b[0m     time\u001b[38;5;241m.\u001b[39msleep(\u001b[38;5;241m1\u001b[39m)\n\u001b[1;32m---> 32\u001b[0m     imgs2 \u001b[38;5;241m=\u001b[39m \u001b[43mdriver\u001b[49m\u001b[38;5;241;43m.\u001b[39;49m\u001b[43mfind_elements\u001b[49m\u001b[43m(\u001b[49m\u001b[43mBy\u001b[49m\u001b[38;5;241;43m.\u001b[39;49m\u001b[43mCLASS_NAME\u001b[49m\u001b[43m,\u001b[49m\u001b[43m \u001b[49m\u001b[38;5;124;43m'\u001b[39;49m\u001b[38;5;124;43mfont-normal\u001b[39;49m\u001b[38;5;124;43m'\u001b[39;49m\u001b[43m)\u001b[49m\n\u001b[0;32m     33\u001b[0m     imgs2[i]\u001b[38;5;241m.\u001b[39mclick()\n\u001b[0;32m     34\u001b[0m     time\u001b[38;5;241m.\u001b[39msleep(\u001b[38;5;241m0.5\u001b[39m)\n",
      "File \u001b[1;32m~\\anaconda3\\lib\\site-packages\\selenium\\webdriver\\remote\\webdriver.py:890\u001b[0m, in \u001b[0;36mWebDriver.find_elements\u001b[1;34m(self, by, value)\u001b[0m\n\u001b[0;32m    886\u001b[0m     value \u001b[38;5;241m=\u001b[39m \u001b[38;5;124m'\u001b[39m\u001b[38;5;124m[name=\u001b[39m\u001b[38;5;124m\"\u001b[39m\u001b[38;5;132;01m%s\u001b[39;00m\u001b[38;5;124m\"\u001b[39m\u001b[38;5;124m]\u001b[39m\u001b[38;5;124m'\u001b[39m \u001b[38;5;241m%\u001b[39m value\n\u001b[0;32m    888\u001b[0m \u001b[38;5;66;03m# Return empty list if driver returns null\u001b[39;00m\n\u001b[0;32m    889\u001b[0m \u001b[38;5;66;03m# See https://github.com/SeleniumHQ/selenium/issues/4555\u001b[39;00m\n\u001b[1;32m--> 890\u001b[0m \u001b[38;5;28;01mreturn\u001b[39;00m \u001b[38;5;28;43mself\u001b[39;49m\u001b[38;5;241;43m.\u001b[39;49m\u001b[43mexecute\u001b[49m\u001b[43m(\u001b[49m\u001b[43mCommand\u001b[49m\u001b[38;5;241;43m.\u001b[39;49m\u001b[43mFIND_ELEMENTS\u001b[49m\u001b[43m,\u001b[49m\u001b[43m \u001b[49m\u001b[43m{\u001b[49m\n\u001b[0;32m    891\u001b[0m \u001b[43m    \u001b[49m\u001b[38;5;124;43m'\u001b[39;49m\u001b[38;5;124;43musing\u001b[39;49m\u001b[38;5;124;43m'\u001b[39;49m\u001b[43m:\u001b[49m\u001b[43m \u001b[49m\u001b[43mby\u001b[49m\u001b[43m,\u001b[49m\n\u001b[0;32m    892\u001b[0m \u001b[43m    \u001b[49m\u001b[38;5;124;43m'\u001b[39;49m\u001b[38;5;124;43mvalue\u001b[39;49m\u001b[38;5;124;43m'\u001b[39;49m\u001b[43m:\u001b[49m\u001b[43m \u001b[49m\u001b[43mvalue\u001b[49m\u001b[43m}\u001b[49m\u001b[43m)\u001b[49m[\u001b[38;5;124m'\u001b[39m\u001b[38;5;124mvalue\u001b[39m\u001b[38;5;124m'\u001b[39m] \u001b[38;5;129;01mor\u001b[39;00m []\n",
      "File \u001b[1;32m~\\anaconda3\\lib\\site-packages\\selenium\\webdriver\\remote\\webdriver.py:433\u001b[0m, in \u001b[0;36mWebDriver.execute\u001b[1;34m(self, driver_command, params)\u001b[0m\n\u001b[0;32m    430\u001b[0m         params[\u001b[38;5;124m'\u001b[39m\u001b[38;5;124msessionId\u001b[39m\u001b[38;5;124m'\u001b[39m] \u001b[38;5;241m=\u001b[39m \u001b[38;5;28mself\u001b[39m\u001b[38;5;241m.\u001b[39msession_id\n\u001b[0;32m    432\u001b[0m params \u001b[38;5;241m=\u001b[39m \u001b[38;5;28mself\u001b[39m\u001b[38;5;241m.\u001b[39m_wrap_value(params)\n\u001b[1;32m--> 433\u001b[0m response \u001b[38;5;241m=\u001b[39m \u001b[38;5;28;43mself\u001b[39;49m\u001b[38;5;241;43m.\u001b[39;49m\u001b[43mcommand_executor\u001b[49m\u001b[38;5;241;43m.\u001b[39;49m\u001b[43mexecute\u001b[49m\u001b[43m(\u001b[49m\u001b[43mdriver_command\u001b[49m\u001b[43m,\u001b[49m\u001b[43m \u001b[49m\u001b[43mparams\u001b[49m\u001b[43m)\u001b[49m\n\u001b[0;32m    434\u001b[0m \u001b[38;5;28;01mif\u001b[39;00m response:\n\u001b[0;32m    435\u001b[0m     \u001b[38;5;28mself\u001b[39m\u001b[38;5;241m.\u001b[39merror_handler\u001b[38;5;241m.\u001b[39mcheck_response(response)\n",
      "File \u001b[1;32m~\\anaconda3\\lib\\site-packages\\selenium\\webdriver\\remote\\remote_connection.py:344\u001b[0m, in \u001b[0;36mRemoteConnection.execute\u001b[1;34m(self, command, params)\u001b[0m\n\u001b[0;32m    342\u001b[0m data \u001b[38;5;241m=\u001b[39m utils\u001b[38;5;241m.\u001b[39mdump_json(params)\n\u001b[0;32m    343\u001b[0m url \u001b[38;5;241m=\u001b[39m \u001b[38;5;124mf\u001b[39m\u001b[38;5;124m\"\u001b[39m\u001b[38;5;132;01m{\u001b[39;00m\u001b[38;5;28mself\u001b[39m\u001b[38;5;241m.\u001b[39m_url\u001b[38;5;132;01m}\u001b[39;00m\u001b[38;5;132;01m{\u001b[39;00mpath\u001b[38;5;132;01m}\u001b[39;00m\u001b[38;5;124m\"\u001b[39m\n\u001b[1;32m--> 344\u001b[0m \u001b[38;5;28;01mreturn\u001b[39;00m \u001b[38;5;28;43mself\u001b[39;49m\u001b[38;5;241;43m.\u001b[39;49m\u001b[43m_request\u001b[49m\u001b[43m(\u001b[49m\u001b[43mcommand_info\u001b[49m\u001b[43m[\u001b[49m\u001b[38;5;241;43m0\u001b[39;49m\u001b[43m]\u001b[49m\u001b[43m,\u001b[49m\u001b[43m \u001b[49m\u001b[43murl\u001b[49m\u001b[43m,\u001b[49m\u001b[43m \u001b[49m\u001b[43mbody\u001b[49m\u001b[38;5;241;43m=\u001b[39;49m\u001b[43mdata\u001b[49m\u001b[43m)\u001b[49m\n",
      "File \u001b[1;32m~\\anaconda3\\lib\\site-packages\\selenium\\webdriver\\remote\\remote_connection.py:366\u001b[0m, in \u001b[0;36mRemoteConnection._request\u001b[1;34m(self, method, url, body)\u001b[0m\n\u001b[0;32m    363\u001b[0m     body \u001b[38;5;241m=\u001b[39m \u001b[38;5;28;01mNone\u001b[39;00m\n\u001b[0;32m    365\u001b[0m \u001b[38;5;28;01mif\u001b[39;00m \u001b[38;5;28mself\u001b[39m\u001b[38;5;241m.\u001b[39mkeep_alive:\n\u001b[1;32m--> 366\u001b[0m     response \u001b[38;5;241m=\u001b[39m \u001b[38;5;28;43mself\u001b[39;49m\u001b[38;5;241;43m.\u001b[39;49m\u001b[43m_conn\u001b[49m\u001b[38;5;241;43m.\u001b[39;49m\u001b[43mrequest\u001b[49m\u001b[43m(\u001b[49m\u001b[43mmethod\u001b[49m\u001b[43m,\u001b[49m\u001b[43m \u001b[49m\u001b[43murl\u001b[49m\u001b[43m,\u001b[49m\u001b[43m \u001b[49m\u001b[43mbody\u001b[49m\u001b[38;5;241;43m=\u001b[39;49m\u001b[43mbody\u001b[49m\u001b[43m,\u001b[49m\u001b[43m \u001b[49m\u001b[43mheaders\u001b[49m\u001b[38;5;241;43m=\u001b[39;49m\u001b[43mheaders\u001b[49m\u001b[43m)\u001b[49m\n\u001b[0;32m    367\u001b[0m     statuscode \u001b[38;5;241m=\u001b[39m response\u001b[38;5;241m.\u001b[39mstatus\n\u001b[0;32m    368\u001b[0m \u001b[38;5;28;01melse\u001b[39;00m:\n",
      "File \u001b[1;32m~\\anaconda3\\lib\\site-packages\\urllib3\\request.py:78\u001b[0m, in \u001b[0;36mRequestMethods.request\u001b[1;34m(self, method, url, fields, headers, **urlopen_kw)\u001b[0m\n\u001b[0;32m     74\u001b[0m     \u001b[38;5;28;01mreturn\u001b[39;00m \u001b[38;5;28mself\u001b[39m\u001b[38;5;241m.\u001b[39mrequest_encode_url(\n\u001b[0;32m     75\u001b[0m         method, url, fields\u001b[38;5;241m=\u001b[39mfields, headers\u001b[38;5;241m=\u001b[39mheaders, \u001b[38;5;241m*\u001b[39m\u001b[38;5;241m*\u001b[39murlopen_kw\n\u001b[0;32m     76\u001b[0m     )\n\u001b[0;32m     77\u001b[0m \u001b[38;5;28;01melse\u001b[39;00m:\n\u001b[1;32m---> 78\u001b[0m     \u001b[38;5;28;01mreturn\u001b[39;00m \u001b[38;5;28mself\u001b[39m\u001b[38;5;241m.\u001b[39mrequest_encode_body(\n\u001b[0;32m     79\u001b[0m         method, url, fields\u001b[38;5;241m=\u001b[39mfields, headers\u001b[38;5;241m=\u001b[39mheaders, \u001b[38;5;241m*\u001b[39m\u001b[38;5;241m*\u001b[39murlopen_kw\n\u001b[0;32m     80\u001b[0m     )\n",
      "File \u001b[1;32m~\\anaconda3\\lib\\site-packages\\urllib3\\request.py:170\u001b[0m, in \u001b[0;36mRequestMethods.request_encode_body\u001b[1;34m(self, method, url, fields, headers, encode_multipart, multipart_boundary, **urlopen_kw)\u001b[0m\n\u001b[0;32m    167\u001b[0m extra_kw[\u001b[38;5;124m\"\u001b[39m\u001b[38;5;124mheaders\u001b[39m\u001b[38;5;124m\"\u001b[39m]\u001b[38;5;241m.\u001b[39mupdate(headers)\n\u001b[0;32m    168\u001b[0m extra_kw\u001b[38;5;241m.\u001b[39mupdate(urlopen_kw)\n\u001b[1;32m--> 170\u001b[0m \u001b[38;5;28;01mreturn\u001b[39;00m \u001b[38;5;28mself\u001b[39m\u001b[38;5;241m.\u001b[39murlopen(method, url, \u001b[38;5;241m*\u001b[39m\u001b[38;5;241m*\u001b[39mextra_kw)\n",
      "File \u001b[1;32m~\\anaconda3\\lib\\site-packages\\urllib3\\poolmanager.py:376\u001b[0m, in \u001b[0;36mPoolManager.urlopen\u001b[1;34m(self, method, url, redirect, **kw)\u001b[0m\n\u001b[0;32m    374\u001b[0m     response \u001b[38;5;241m=\u001b[39m conn\u001b[38;5;241m.\u001b[39murlopen(method, url, \u001b[38;5;241m*\u001b[39m\u001b[38;5;241m*\u001b[39mkw)\n\u001b[0;32m    375\u001b[0m \u001b[38;5;28;01melse\u001b[39;00m:\n\u001b[1;32m--> 376\u001b[0m     response \u001b[38;5;241m=\u001b[39m conn\u001b[38;5;241m.\u001b[39murlopen(method, u\u001b[38;5;241m.\u001b[39mrequest_uri, \u001b[38;5;241m*\u001b[39m\u001b[38;5;241m*\u001b[39mkw)\n\u001b[0;32m    378\u001b[0m redirect_location \u001b[38;5;241m=\u001b[39m redirect \u001b[38;5;129;01mand\u001b[39;00m response\u001b[38;5;241m.\u001b[39mget_redirect_location()\n\u001b[0;32m    379\u001b[0m \u001b[38;5;28;01mif\u001b[39;00m \u001b[38;5;129;01mnot\u001b[39;00m redirect_location:\n",
      "File \u001b[1;32m~\\anaconda3\\lib\\site-packages\\urllib3\\connectionpool.py:703\u001b[0m, in \u001b[0;36mHTTPConnectionPool.urlopen\u001b[1;34m(self, method, url, body, headers, retries, redirect, assert_same_host, timeout, pool_timeout, release_conn, chunked, body_pos, **response_kw)\u001b[0m\n\u001b[0;32m    700\u001b[0m     \u001b[38;5;28mself\u001b[39m\u001b[38;5;241m.\u001b[39m_prepare_proxy(conn)\n\u001b[0;32m    702\u001b[0m \u001b[38;5;66;03m# Make the request on the httplib connection object.\u001b[39;00m\n\u001b[1;32m--> 703\u001b[0m httplib_response \u001b[38;5;241m=\u001b[39m \u001b[38;5;28;43mself\u001b[39;49m\u001b[38;5;241;43m.\u001b[39;49m\u001b[43m_make_request\u001b[49m\u001b[43m(\u001b[49m\n\u001b[0;32m    704\u001b[0m \u001b[43m    \u001b[49m\u001b[43mconn\u001b[49m\u001b[43m,\u001b[49m\n\u001b[0;32m    705\u001b[0m \u001b[43m    \u001b[49m\u001b[43mmethod\u001b[49m\u001b[43m,\u001b[49m\n\u001b[0;32m    706\u001b[0m \u001b[43m    \u001b[49m\u001b[43murl\u001b[49m\u001b[43m,\u001b[49m\n\u001b[0;32m    707\u001b[0m \u001b[43m    \u001b[49m\u001b[43mtimeout\u001b[49m\u001b[38;5;241;43m=\u001b[39;49m\u001b[43mtimeout_obj\u001b[49m\u001b[43m,\u001b[49m\n\u001b[0;32m    708\u001b[0m \u001b[43m    \u001b[49m\u001b[43mbody\u001b[49m\u001b[38;5;241;43m=\u001b[39;49m\u001b[43mbody\u001b[49m\u001b[43m,\u001b[49m\n\u001b[0;32m    709\u001b[0m \u001b[43m    \u001b[49m\u001b[43mheaders\u001b[49m\u001b[38;5;241;43m=\u001b[39;49m\u001b[43mheaders\u001b[49m\u001b[43m,\u001b[49m\n\u001b[0;32m    710\u001b[0m \u001b[43m    \u001b[49m\u001b[43mchunked\u001b[49m\u001b[38;5;241;43m=\u001b[39;49m\u001b[43mchunked\u001b[49m\u001b[43m,\u001b[49m\n\u001b[0;32m    711\u001b[0m \u001b[43m\u001b[49m\u001b[43m)\u001b[49m\n\u001b[0;32m    713\u001b[0m \u001b[38;5;66;03m# If we're going to release the connection in ``finally:``, then\u001b[39;00m\n\u001b[0;32m    714\u001b[0m \u001b[38;5;66;03m# the response doesn't need to know about the connection. Otherwise\u001b[39;00m\n\u001b[0;32m    715\u001b[0m \u001b[38;5;66;03m# it will also try to release it and we'll have a double-release\u001b[39;00m\n\u001b[0;32m    716\u001b[0m \u001b[38;5;66;03m# mess.\u001b[39;00m\n\u001b[0;32m    717\u001b[0m response_conn \u001b[38;5;241m=\u001b[39m conn \u001b[38;5;28;01mif\u001b[39;00m \u001b[38;5;129;01mnot\u001b[39;00m release_conn \u001b[38;5;28;01melse\u001b[39;00m \u001b[38;5;28;01mNone\u001b[39;00m\n",
      "File \u001b[1;32m~\\anaconda3\\lib\\site-packages\\urllib3\\connectionpool.py:449\u001b[0m, in \u001b[0;36mHTTPConnectionPool._make_request\u001b[1;34m(self, conn, method, url, timeout, chunked, **httplib_request_kw)\u001b[0m\n\u001b[0;32m    444\u001b[0m             httplib_response \u001b[38;5;241m=\u001b[39m conn\u001b[38;5;241m.\u001b[39mgetresponse()\n\u001b[0;32m    445\u001b[0m         \u001b[38;5;28;01mexcept\u001b[39;00m \u001b[38;5;167;01mBaseException\u001b[39;00m \u001b[38;5;28;01mas\u001b[39;00m e:\n\u001b[0;32m    446\u001b[0m             \u001b[38;5;66;03m# Remove the TypeError from the exception chain in\u001b[39;00m\n\u001b[0;32m    447\u001b[0m             \u001b[38;5;66;03m# Python 3 (including for exceptions like SystemExit).\u001b[39;00m\n\u001b[0;32m    448\u001b[0m             \u001b[38;5;66;03m# Otherwise it looks like a bug in the code.\u001b[39;00m\n\u001b[1;32m--> 449\u001b[0m             \u001b[43msix\u001b[49m\u001b[38;5;241;43m.\u001b[39;49m\u001b[43mraise_from\u001b[49m\u001b[43m(\u001b[49m\u001b[43me\u001b[49m\u001b[43m,\u001b[49m\u001b[43m \u001b[49m\u001b[38;5;28;43;01mNone\u001b[39;49;00m\u001b[43m)\u001b[49m\n\u001b[0;32m    450\u001b[0m \u001b[38;5;28;01mexcept\u001b[39;00m (SocketTimeout, BaseSSLError, SocketError) \u001b[38;5;28;01mas\u001b[39;00m e:\n\u001b[0;32m    451\u001b[0m     \u001b[38;5;28mself\u001b[39m\u001b[38;5;241m.\u001b[39m_raise_timeout(err\u001b[38;5;241m=\u001b[39me, url\u001b[38;5;241m=\u001b[39murl, timeout_value\u001b[38;5;241m=\u001b[39mread_timeout)\n",
      "File \u001b[1;32m<string>:3\u001b[0m, in \u001b[0;36mraise_from\u001b[1;34m(value, from_value)\u001b[0m\n",
      "File \u001b[1;32m~\\anaconda3\\lib\\site-packages\\urllib3\\connectionpool.py:444\u001b[0m, in \u001b[0;36mHTTPConnectionPool._make_request\u001b[1;34m(self, conn, method, url, timeout, chunked, **httplib_request_kw)\u001b[0m\n\u001b[0;32m    441\u001b[0m \u001b[38;5;28;01mexcept\u001b[39;00m \u001b[38;5;167;01mTypeError\u001b[39;00m:\n\u001b[0;32m    442\u001b[0m     \u001b[38;5;66;03m# Python 3\u001b[39;00m\n\u001b[0;32m    443\u001b[0m     \u001b[38;5;28;01mtry\u001b[39;00m:\n\u001b[1;32m--> 444\u001b[0m         httplib_response \u001b[38;5;241m=\u001b[39m \u001b[43mconn\u001b[49m\u001b[38;5;241;43m.\u001b[39;49m\u001b[43mgetresponse\u001b[49m\u001b[43m(\u001b[49m\u001b[43m)\u001b[49m\n\u001b[0;32m    445\u001b[0m     \u001b[38;5;28;01mexcept\u001b[39;00m \u001b[38;5;167;01mBaseException\u001b[39;00m \u001b[38;5;28;01mas\u001b[39;00m e:\n\u001b[0;32m    446\u001b[0m         \u001b[38;5;66;03m# Remove the TypeError from the exception chain in\u001b[39;00m\n\u001b[0;32m    447\u001b[0m         \u001b[38;5;66;03m# Python 3 (including for exceptions like SystemExit).\u001b[39;00m\n\u001b[0;32m    448\u001b[0m         \u001b[38;5;66;03m# Otherwise it looks like a bug in the code.\u001b[39;00m\n\u001b[0;32m    449\u001b[0m         six\u001b[38;5;241m.\u001b[39mraise_from(e, \u001b[38;5;28;01mNone\u001b[39;00m)\n",
      "File \u001b[1;32m~\\anaconda3\\lib\\http\\client.py:1377\u001b[0m, in \u001b[0;36mHTTPConnection.getresponse\u001b[1;34m(self)\u001b[0m\n\u001b[0;32m   1375\u001b[0m \u001b[38;5;28;01mtry\u001b[39;00m:\n\u001b[0;32m   1376\u001b[0m     \u001b[38;5;28;01mtry\u001b[39;00m:\n\u001b[1;32m-> 1377\u001b[0m         \u001b[43mresponse\u001b[49m\u001b[38;5;241;43m.\u001b[39;49m\u001b[43mbegin\u001b[49m\u001b[43m(\u001b[49m\u001b[43m)\u001b[49m\n\u001b[0;32m   1378\u001b[0m     \u001b[38;5;28;01mexcept\u001b[39;00m \u001b[38;5;167;01mConnectionError\u001b[39;00m:\n\u001b[0;32m   1379\u001b[0m         \u001b[38;5;28mself\u001b[39m\u001b[38;5;241m.\u001b[39mclose()\n",
      "File \u001b[1;32m~\\anaconda3\\lib\\http\\client.py:320\u001b[0m, in \u001b[0;36mHTTPResponse.begin\u001b[1;34m(self)\u001b[0m\n\u001b[0;32m    318\u001b[0m \u001b[38;5;66;03m# read until we get a non-100 response\u001b[39;00m\n\u001b[0;32m    319\u001b[0m \u001b[38;5;28;01mwhile\u001b[39;00m \u001b[38;5;28;01mTrue\u001b[39;00m:\n\u001b[1;32m--> 320\u001b[0m     version, status, reason \u001b[38;5;241m=\u001b[39m \u001b[38;5;28;43mself\u001b[39;49m\u001b[38;5;241;43m.\u001b[39;49m\u001b[43m_read_status\u001b[49m\u001b[43m(\u001b[49m\u001b[43m)\u001b[49m\n\u001b[0;32m    321\u001b[0m     \u001b[38;5;28;01mif\u001b[39;00m status \u001b[38;5;241m!=\u001b[39m CONTINUE:\n\u001b[0;32m    322\u001b[0m         \u001b[38;5;28;01mbreak\u001b[39;00m\n",
      "File \u001b[1;32m~\\anaconda3\\lib\\http\\client.py:281\u001b[0m, in \u001b[0;36mHTTPResponse._read_status\u001b[1;34m(self)\u001b[0m\n\u001b[0;32m    280\u001b[0m \u001b[38;5;28;01mdef\u001b[39;00m \u001b[38;5;21m_read_status\u001b[39m(\u001b[38;5;28mself\u001b[39m):\n\u001b[1;32m--> 281\u001b[0m     line \u001b[38;5;241m=\u001b[39m \u001b[38;5;28mstr\u001b[39m(\u001b[38;5;28;43mself\u001b[39;49m\u001b[38;5;241;43m.\u001b[39;49m\u001b[43mfp\u001b[49m\u001b[38;5;241;43m.\u001b[39;49m\u001b[43mreadline\u001b[49m\u001b[43m(\u001b[49m\u001b[43m_MAXLINE\u001b[49m\u001b[43m \u001b[49m\u001b[38;5;241;43m+\u001b[39;49m\u001b[43m \u001b[49m\u001b[38;5;241;43m1\u001b[39;49m\u001b[43m)\u001b[49m, \u001b[38;5;124m\"\u001b[39m\u001b[38;5;124miso-8859-1\u001b[39m\u001b[38;5;124m\"\u001b[39m)\n\u001b[0;32m    282\u001b[0m     \u001b[38;5;28;01mif\u001b[39;00m \u001b[38;5;28mlen\u001b[39m(line) \u001b[38;5;241m>\u001b[39m _MAXLINE:\n\u001b[0;32m    283\u001b[0m         \u001b[38;5;28;01mraise\u001b[39;00m LineTooLong(\u001b[38;5;124m\"\u001b[39m\u001b[38;5;124mstatus line\u001b[39m\u001b[38;5;124m\"\u001b[39m)\n",
      "File \u001b[1;32m~\\anaconda3\\lib\\socket.py:704\u001b[0m, in \u001b[0;36mSocketIO.readinto\u001b[1;34m(self, b)\u001b[0m\n\u001b[0;32m    702\u001b[0m \u001b[38;5;28;01mwhile\u001b[39;00m \u001b[38;5;28;01mTrue\u001b[39;00m:\n\u001b[0;32m    703\u001b[0m     \u001b[38;5;28;01mtry\u001b[39;00m:\n\u001b[1;32m--> 704\u001b[0m         \u001b[38;5;28;01mreturn\u001b[39;00m \u001b[38;5;28;43mself\u001b[39;49m\u001b[38;5;241;43m.\u001b[39;49m\u001b[43m_sock\u001b[49m\u001b[38;5;241;43m.\u001b[39;49m\u001b[43mrecv_into\u001b[49m\u001b[43m(\u001b[49m\u001b[43mb\u001b[49m\u001b[43m)\u001b[49m\n\u001b[0;32m    705\u001b[0m     \u001b[38;5;28;01mexcept\u001b[39;00m timeout:\n\u001b[0;32m    706\u001b[0m         \u001b[38;5;28mself\u001b[39m\u001b[38;5;241m.\u001b[39m_timeout_occurred \u001b[38;5;241m=\u001b[39m \u001b[38;5;28;01mTrue\u001b[39;00m\n",
      "\u001b[1;31mKeyboardInterrupt\u001b[0m: "
     ]
    }
   ],
   "source": [
    "from selenium import webdriver as wb\n",
    "from selenium.webdriver.common.keys import Keys\n",
    "from selenium.webdriver.common.by import By\n",
    "import time\n",
    "\n",
    "# --전체 테스트---\n",
    "driver = wb.Chrome()\n",
    "driver.maximize_window()\n",
    "driver.get('https://www.glowpick.com/searches/keywords')\n",
    "ewg_list = []\n",
    "title_list = []\n",
    "product_list = []\n",
    "time.sleep(0.5)\n",
    "che = driver.find_element(By.CLASS_NAME, 'buttons__button.buttons__not-today')\n",
    "che.click()\n",
    "search = driver.find_element(By.CLASS_NAME,'header__input.copyable') \n",
    "search.send_keys('수분크림')\n",
    "search.send_keys(Keys.ENTER)\n",
    "\n",
    "for i in range(50):\n",
    "    body = driver.find_element(By.TAG_NAME, 'body')\n",
    "    body.send_keys(Keys.END)\n",
    "    time.sleep(0.5)\n",
    "\n",
    "last_height = driver.execute_script(\"return document.body.scrollHeight\")\n",
    "# 스크롤 위로 올리기\n",
    "driver.execute_script(\"window.scrollTo(0,0)\")\n",
    "\n",
    "for i in range(50):    \n",
    "    # 상품 클릭 / 상세 정보페이지\n",
    "    time.sleep(1)\n",
    "    imgs2 = driver.find_elements(By.CLASS_NAME, 'font-normal')\n",
    "    imgs2[i].click()\n",
    "    time.sleep(0.5)\n",
    "    # 제품 이름 갖고 오기\n",
    "    title = driver.find_element(By.CLASS_NAME, 'product__summary__name')\n",
    "    title_list.append(title.text)\n",
    "    # 스크롤 한 번 내리기\n",
    "    driver.execute_script(\"window.scrollTo(0,200)\")\n",
    "    time.sleep(0.5)\n",
    "    che2 = driver.find_element(By.CLASS_NAME, 'info__article__h3__button')\n",
    "    che2.click()\n",
    "    time.sleep(0.5)\n",
    "    ewg = driver.find_elements(By.CLASS_NAME, 'item__wrapper')\n",
    "    for i in ewg:\n",
    "        ewg_list.append(i.text)\n",
    "    # 스크롤 위로 올리기\n",
    "    driver.execute_script(\"window.scrollTo(0,0)\")\n",
    "    che3 = driver.find_element(By.CLASS_NAME, 'details__contents__h1__button')\n",
    "    che3.click()\n",
    "    time.sleep(0.5)\n",
    "    product = driver.find_element(By.CLASS_NAME, 'info__text.description__text')\n",
    "    product_list.append(product.text)\n",
    "    driver.back()"
   ]
  },
  {
   "cell_type": "code",
   "execution_count": 7,
   "id": "c36a26f0",
   "metadata": {},
   "outputs": [
    {
     "name": "stdout",
     "output_type": "stream",
     "text": [
      "['1\\n정제수\\nWater;Aqua\\n피부컨디셔닝제, 용제', '1\\n1,2-헥산다이올\\n1,2-Hexanediol\\n용제', '1\\n판테놀\\nPanthenol\\n헤어컨디셔닝제, 용제, 피부컨디셔닝제(보습제)', '1\\n카프릴릭/카프릭트라이글리세라이드\\nCaprylic/Capric Triglyceride\\n착향제, 피부컨디셔닝제(수분차단제), 용제', '1\\n에틸헥실아이소노나노에이트\\nEthylhexyl Isononanoate\\n피부컨디셔닝제(유연제)', '1\\n세테아릴알코올\\nCetearyl Alcohol\\n유화안정제, 불투명화제, 계면활성제-거품형성제, 점증제-수용성, 점증제-비수용성', '1\\n암모늄아크릴로일다이메틸타우레이트/브이피코폴리머\\nAmmonium Acryloyldimethyltaurate/VP Copolymer\\n점도증가제(수성)', '1\\n병풀추출물\\nCentella Asiatica Extract\\n피부컨디셔닝제', '1\\n글리세릴스테아레이트\\nGlyceryl Stearate\\n착향제, 피부컨디셔닝제(유연제), 계면활성제(유화제)', '1\\n폴리글리세릴-10다이스테아레이트\\nPolyglyceryl-10 Distearate\\n피부컨디셔닝제(유연제), 계면활성제(유화제)', '1\\n비피다발효용해물\\nBifida Ferment Lysate\\n피부컨디셔닝제', '1\\n피토스테롤\\nPhytosterols\\n피부컨디셔닝제', '1\\n서양고추나물꽃추출물\\nHypericum Perforatum Flower Extract\\n피부컨디셔닝제(기타)', '1\\n아세틸글루코사민\\nAcetyl Glucosamine\\n피부컨디셔닝제', '1\\n카보머\\nCarbomer\\n유화안정제, 점증제-수용성', '1\\n아세틸다이펩타이드-1세틸에스터\\nAcetyl Dipeptide-1 Cetyl Ester\\n헤어컨디셔닝제, 피부컨디셔닝제(기타)', '1\\n알란토인\\nAllantoin\\n피부컨디셔닝제, 피부보호제', '1\\n소듐하이알루로네이트\\nSodium Hyaluronate\\n피부컨디셔닝제', 'N-팔미토일세린올\\nN-Palmitoyl Serinol\\n피부보호제', '1-2\\n삼씨오일\\nCannabis Sativa Seed Oil;Cannabis Sativa (Hemp) Seed Oil\\n피부컨디셔닝제(기타)', '시아릴락토오스\\nSialyllactose\\n피부컨디셔닝제(기타)', '1\\n세라마이드엔피\\nCeramide NP\\n헤어컨디셔닝제, 피부컨디셔닝제(기타)', '1\\n레스베라트롤\\nResveratrol\\n산화방지제, 피부보호제', '1\\n솔비탄스테아레이트\\nSorbitan Stearate\\n착향제, 계면활성제(유화제)', '1\\n스테아릭애씨드\\nStearic Acid\\n착향제, 계면활성제(세정제), 계면활성제(유화제)', '1\\n정제수\\nWater;Aqua\\n피부컨디셔닝제, 용제', '1-2\\n글리세린\\nGlycerin\\n변성제, 착향제, 헤어컨디셔닝제, 보습제, 피부보호제, 피부컨디셔닝제(보습제), 점도감소제', '1\\n다이프로필렌글라이콜\\nDipropylene Glycol\\n착향제, 용제, 점도감소제, 피부컨디셔닝제', '2\\n프로판다이올\\nPropanediol\\n용제, 점도감소제', '2\\n하이드로제네이티드폴리데센\\nHydrogenated Polydecene\\n향료, 모발컨디셔닝제, 피부유연화제, 피부컨디셔닝제, 용제', '1\\n1,2-헥산다이올\\n1,2-Hexanediol\\n용제', '1\\n부틸렌글라이콜\\nButylene Glycol\\n착향제, 피부컨디셔닝제, 용제, 점도감소제', '1\\n카프릴릭/카프릭트라이글리세라이드\\nCaprylic/Capric Triglyceride\\n착향제, 피부컨디셔닝제(수분차단제), 용제', '1\\n폴리메틸실세스퀴옥세인\\nPolymethylsilsesquioxane\\n불투명화제', '1\\n세테아릴올리베이트\\nCetearyl Olivate\\n수분증발차단제', '1\\n아크릴레이트/C10-30알킬아크릴레이트크로스폴리머\\nAcrylates/C10-30 Alkyl Acrylate Crosspolymer\\n유화안정제, 점증제-수용성, 점증제-비수용성', '2\\n트로메타민\\nTromethamine\\n착향제, pH 조절제', '1\\n솔비탄올리베이트\\nSorbitan Olivate\\n계면활성제(유화제)', '1\\n소듐폴리아크릴로일다이메틸타우레이트\\nSodium Polyacryloyldimethyl Taurate\\n유화안정제, 점도증가제(수성)', '1\\n바이오사카라이드검-1\\nBiosaccharide Gum-1\\n피부컨디셔닝제', '1\\n카보머\\nCarbomer\\n유화안정제, 점증제-수용성', '1\\n글리세릴글루코사이드\\nGlyceryl Glucoside\\n피부컨디셔닝제(보습제)', '1\\n에틸헥실글리세린\\nEthylhexylglycerin\\n피부컨디셔닝제(기타)', '1\\n하이드록시에틸셀룰로오스\\nHydroxyethylcellulose\\n결합제, 유화안정제, 피막형성제, 점도증가제(수성)', '1\\n다이소듐이디티에이\\nDisodium EDTA\\n금속이온봉쇄제', '1\\n트라이데세스-10\\nTrideceth-10\\n피부컨디셔닝제(유연제)', '1\\n하이알루로닉애씨드\\nHyaluronic Acid\\n피부컨디셔닝제(기타), 점도증가제(수성)', '1\\n하이드롤라이즈드하이알루로닉애씨드\\nHydrolyzed Hyaluronic Acid\\n헤어컨디셔닝제, 피부컨디셔닝제(보습제)', '1\\n쇠비름추출물\\nPortulaca Oleracea Extract\\n피부컨디셔닝제(보습제)', '1\\n소듐하이알루로네이트\\nSodium Hyaluronate\\n피부컨디셔닝제', '브루셀스프라우트추출물\\nBrassica Oleracea Gemmifera (Brussels Sprouts) Extract\\n수렴제', '약모밀추출물\\nHouttuynia Cordata Extract\\n피부컨디셔닝제(기타)', '돌나물추출물\\nSedum Sarmentosum Extract\\n피부컨디셔닝제(보습제)', '2\\n하이드로제네이티드레시틴\\nHydrogenated Lecithin\\n계면활성제-유화제, 현탁화제-비계면활성제, 피부컨디셔닝제', '1\\n리놀레익애씨드\\nLinoleic Acid\\n착향제, 헤어컨디셔닝제, 피부컨디셔닝제(기타), 계면활성제(세정제)', '1\\n리놀레닉애씨드\\nLinolenic Acid\\n착향제, 헤어컨디셔닝제, 피부컨디셔닝제(기타), 계면활성제(세정제)', '1\\n잇꽃씨오일\\nCarthamus Tinctorius (Safflower) Seed Oil\\n향료, 수분증발차단제', '1\\n폴리글리세릴-10올리에이트\\nPolyglyceryl-10 Oleate\\n피부유연화제, 계면활성제-유화제', '1\\n수크로오스팔미테이트\\nSucrose Palmitate\\n피부컨디셔닝제(유연제), 계면활성제(유화제)', '1\\n멕시칸치아씨오일\\nSalvia Hispanica Seed Oil\\n피부컨디셔닝제(수분차단제)', '1\\n감초뿌리추출물\\nGlycyrrhiza Uralensis (Licorice) Root Extract\\n피부컨디셔닝제(기타)', '1\\n사카라이드아이소머레이트\\nSaccharide Isomerate\\n피부컨디셔닝제(보습제)', '1-2\\n시트릭애씨드\\nCitric Acid\\n금속이온봉쇄제, 향료, pH 조절제', '1\\n소듐시트레이트\\nSodium Citrate\\npH 완충제, 금속이온봉쇄제, 착향제, pH 조절제', '1\\n정제수\\nWater;Aqua\\n피부컨디셔닝제, 용제', '1-2\\n글리세린\\nGlycerin\\n변성제, 착향제, 헤어컨디셔닝제, 보습제, 피부보호제, 피부컨디셔닝제(보습제), 점도감소제', '1\\n부틸렌글라이콜\\nButylene Glycol\\n착향제, 피부컨디셔닝제, 용제, 점도감소제', '1\\n나이아신아마이드\\nNiacinamide\\n헤어컨디셔닝제, 피부컨디셔닝제(기타)', '1\\nC13-16아이소파라핀\\nC13-16 Isoparaffin\\n용제', '1\\n1,2-헥산다이올\\n1,2-Hexanediol\\n용제', '1\\nC12-14아이소파라핀\\nC12-14 Isoparaffin\\n용제', '1\\n클로렐라 불가리스추출물\\nChlorella Vulgaris Extract\\n피부컨디셔닝제(기타)', '1\\n쇠비름추출물\\nPortulaca Oleracea Extract\\n피부컨디셔닝제(보습제)', '1\\n병풀잎추출물\\nCentella Asiatica Leaf Extract\\n피부컨디셔닝제(기타)', '1\\n포트마리골드꽃추출물\\nCalendula Officinalis Flower Extract\\n착향제, 피부컨디셔닝제(기타)', '1\\n하이알루로닉애씨드\\nHyaluronic Acid\\n피부컨디셔닝제(기타), 점도증가제(수성)', '1\\n하이드롤라이즈드하이알루로닉애씨드\\nHydrolyzed Hyaluronic Acid\\n헤어컨디셔닝제, 피부컨디셔닝제(보습제)', '1\\n소듐하이알루로네이트\\nSodium Hyaluronate\\n피부컨디셔닝제', '2\\n하이드로제네이티드폴리데센\\nHydrogenated Polydecene\\n향료, 모발컨디셔닝제, 피부유연화제, 피부컨디셔닝제, 용제', '1\\n펜틸렌글라이콜\\nPentylene Glycol\\n피부컨디셔닝제, 용제', '1\\n비닐다이메티콘\\nVinyl Dimethicone', '1\\n카프릴릴메티콘\\nCaprylyl Methicone\\n피부컨디셔닝제(수분차단제)', '1\\n하이드록시에틸아크릴레이트/소듐아크릴로일다이메틸타우레이트코폴리머\\nHydroxyethyl Acrylate/Sodium Acryloyldimethyl Taurate Copolymer\\n유화안정제, 점도증가제(수성)', '1\\n판테놀\\nPanthenol\\n헤어컨디셔닝제, 용제, 피부컨디셔닝제(보습제)', '1\\n폴리메틸실세스퀴옥세인\\nPolymethylsilsesquioxane\\n불투명화제', '1\\n글루코오스\\nGlucose\\n감미제, 보습제, 피부컨디셔닝제(보습제), 피부컨디셔닝제(기타)', '1\\n아크릴레이트/C10-30알킬아크릴레이트크로스폴리머\\nAcrylates/C10-30 Alkyl Acrylate Crosspolymer\\n유화안정제, 점증제-수용성, 점증제-비수용성', '1\\n다이메티콘/비닐다이메티콘크로스폴리머\\nDimethicone/Vinyl Dimethicone Crosspolymer\\n점도증가제(비수성)', '1\\n프룩토올리고사카라이드\\nFructooligosaccharides\\n피부컨디셔닝제(보습제)', '1\\n프룩토오스\\nFructose\\n감미제, 보습제, 피부보습제', '2\\n트로메타민\\nTromethamine\\n착향제, pH 조절제', '1\\n에틸헥실글리세린\\nEthylhexylglycerin\\n피부컨디셔닝제(기타)', '1\\n스쿠알란\\nSqualane\\n모발컨디셔닝제, 수분증발차단제', '1\\n글리세릴아크릴레이트/아크릴릭애씨드코폴리머\\nGlyceryl Acrylate/Acrylic Acid Copolymer\\n피부컨디셔닝제(보습제), 점도증가제(수성)', '1\\n아데노신\\nAdenosine\\n피부컨디셔닝제, 주름개선(기능성화장품)', '1\\n다이포타슘글리시리제이트\\nDipotassium Glycyrrhizate\\n감미제, 피부컨디셔닝제(기타)', '1-2\\n시트릭애씨드\\nCitric Acid\\n금속이온봉쇄제, 향료, pH 조절제', '1-2\\n실리카\\nSilica\\n스크럽제, 흡수제, 안티케이킹제, 벌킹제, 불투명화제, 현탁화제-비계면활성제', '1\\n소듐시트레이트\\nSodium Citrate\\npH 완충제, 금속이온봉쇄제, 착향제, pH 조절제', '1\\n카프릴릭/카프릭트라이글리세라이드\\nCaprylic/Capric Triglyceride\\n착향제, 피부컨디셔닝제(수분차단제), 용제', '1\\n토코페롤\\nTocopherol\\n산화방지제, 착향제, 피부컨디셔닝제, 수분증발차단제', '2\\n에탄올\\nAlcohol\\n기포방지제, 수렴제, 착향제, 용제, 점도감소제,', '1\\n잔탄검\\nXanthan Gum\\n결합제, 유화안정제, 피부컨디셔닝제, 계면활성제-유화제, 점증제-수용성', '1\\n다이소듐이디티에이\\nDisodium EDTA\\n금속이온봉쇄제', '1\\n정제수\\nWater;Aqua\\n피부컨디셔닝제, 용제', '1\\n부틸렌글라이콜\\nButylene Glycol\\n착향제, 피부컨디셔닝제, 용제, 점도감소제', '1-2\\n글리세린\\nGlycerin\\n변성제, 착향제, 헤어컨디셔닝제, 보습제, 피부보호제, 피부컨디셔닝제(보습제), 점도감소제', '1\\n하이드로제네이티드폴리(C6-14올레핀)\\nHydrogenated Poly(C6-14 Olefin)\\n피부컨디셔닝제(수분차단제), 점도증가제(비수성)', '1\\n카프릴릭/카프릭/미리스틱/스테아릭트라이글리세라이드\\nCaprylic/Capric/Myristic/Stearic Triglyceride\\n피부컨디셔닝제(수분차단제)', '1\\n시어버터\\nButyrospermum Parkii (Shea) Butter\\n피부컨디셔닝제(기타), 피부컨디셔닝제(수분차단제), 점도증가제(비수성)', '1\\n펜틸렌글라이콜\\nPentylene Glycol\\n피부컨디셔닝제, 용제', '다이페닐실록시페닐트라이메티콘\\nDiphenylsiloxy Phenyl Trimethicone\\n기포방지제, 헤어컨디셔닝제, 피부컨디셔닝제(기타)', '1\\n나이아신아마이드\\nNiacinamide\\n헤어컨디셔닝제, 피부컨디셔닝제(기타)', '1\\n스쿠알란\\nSqualane\\n모발컨디셔닝제, 수분증발차단제', '1\\n마카다미아씨오일\\nMacadamia Ternifolia Seed Oil\\n피부컨디셔닝제(수분차단제)', '1\\n세테아릴알코올\\nCetearyl Alcohol\\n유화안정제, 불투명화제, 계면활성제-거품형성제, 점증제-수용성, 점증제-비수용성', '피토스테릴/이소스테아릴/세틸/스테아릴/베헤닐다이머디리놀리에이트\\nPhytosteryl/Isostearyl/Cetyl/Stearyl/Behenyl Dimer Dilinoleate\\n모발컨디셔닝제, 피부컨디셔닝제, 점증제', '1\\n합성비즈왁스\\nSynthetic Beeswax\\n결합제, 유화안정제, 점도증가제(비수성)', '1\\n1,2-헥산다이올\\n1,2-Hexanediol\\n용제', '1\\n카나우바왁스\\nCopernicia Cerifera (Carnauba) Wax;Copernicia Cerifera Cera\\n피막형성제, 피부컨디셔닝제(유연제)', '1\\n한련초추출물\\nEclipta Prostrata Extract\\n피부컨디셔닝제(기타)', '1\\n비타민나무오일\\nHippophae Rhamnoides Oil\\n피부컨디셔닝제(수분차단제)', '인도멀구슬나무잎추출물\\nMelia Azadirachta Leaf Extract\\n피부컨디셔닝제(기타)', '1\\n소듐하이알루로네이트\\nSodium Hyaluronate\\n피부컨디셔닝제', '1\\n드럼스틱씨오일\\nMoringa Oleifera Seed Oil\\n피부보호제, 피부컨디셔닝제(유연제), 피부컨디셔닝제(보습제), 피부컨디셔닝제(수분차단제)', '1\\n하이알루로닉애씨드\\nHyaluronic Acid\\n피부컨디셔닝제(기타), 점도증가제(수성)', '1\\n하이드롤라이즈드하이알루로닉애씨드\\nHydrolyzed Hyaluronic Acid\\n헤어컨디셔닝제, 피부컨디셔닝제(보습제)', '1\\n키토산\\nChitosan\\n피막형성제, 모발고정제', '3\\n피이지-40스테아레이트\\nPEG-40 Stearate\\n계면활성제-세정제, 계면활성제-용해보조제', '3\\n피이지-100스테아레이트\\nPEG-100 Stearate\\n계면활성제-세정제', '3\\n피이지-30다이폴리하이드록시스테아레이트\\nPEG-30 Dipolyhydroxystearate\\n계면활성제(유화제)', '3\\n다이메티콘\\nDimethicone\\n기포방지제, 피부보호제, 피부컨디셔닝제(수분차단제), 용제', '4\\n폴리아크릴아마이드\\nPolyacrylamide\\n결합제, 피막형성제, 모발고정제', '2-3\\n토코페릴아세테이트\\nTocopheryl Acetate\\n산화방지제, 피부컨디셔닝제', '1\\nC13-14아이소파라핀\\nC13-14 Isoparaffin\\n피부컨디셔닝제(기타), 용제', '1\\n에틸헥실글리세린\\nEthylhexylglycerin\\n피부컨디셔닝제(기타)', '1\\n폴리글리세릴-6스테아레이트\\nPolyglyceryl-6 Stearate\\n피부유연화제, 계면활성제-유화제', '1-2\\n소듐폴리아크릴레이트\\nSodium Polyacrylate\\n흡수제, 유화안정제, 피막형성제, 모발고정제, 피부유연화제, 점도조절제, 점증제-수용성', '1\\n아데노신\\nAdenosine\\n피부컨디셔닝제, 주름개선(기능성화장품)', '1\\n트라이소듐에틸렌다이아민다이석시네이트\\nTrisodium Ethylenediamine Disuccinate\\n금속이온봉쇄제', '3\\n라우레스-7\\nLaureth-7\\n계면활성제(유화제)', '1\\n폴리글리세릴-6베헤네이트\\nPolyglyceryl-6 Behenate\\n유화안정제, 미끄럼조정제/활택제, 표면조정제', '1\\n베타-글루칸\\nBeta-Glucan\\n벌킹제, 피부컨디셔닝제', '1\\n토코페롤\\nTocopherol\\n산화방지제, 착향제, 피부컨디셔닝제, 수분증발차단제', '1\\n다이프로필렌글라이콜\\nDipropylene Glycol\\n착향제, 용제, 점도감소제, 피부컨디셔닝제', '1\\n하이드록시프로필트라이모늄하이알루로네이트\\nHydroxypropyltrimonium Hyaluronate\\n피막형성제, 보습제', '1\\n글라이신\\nGlycine\\n완충화제, 헤어컨디셔닝제, 피부컨디셔닝제(기타)', '1\\n세린\\nSerine\\n향료, 모발컨디셔닝제, 피부컨디셔닝제', '1\\n글루타믹애씨드\\nGlutamic Acid\\n헤어컨디셔닝제, 피부컨디셔닝제(보습제), 피부컨디셔닝제(기타)', '1\\n소듐아세틸레이티드하이알루로네이트\\nSodium Acetylated Hyaluronate\\n보습제', '1\\n아스파틱애씨드\\nAspartic Acid\\n향료, 모발컨디셔닝제, 피부컨디셔닝제', '1\\n류신\\nLeucine\\n헤어컨디셔닝제, 피부컨디셔닝제(기타)', '2\\n하이드로제네이티드레시틴\\nHydrogenated Lecithin\\n계면활성제-유화제, 현탁화제-비계면활성제, 피부컨디셔닝제', '1\\n알라닌\\nAlanine\\n향료, 모발컨디셔닝제, 피부컨디셔닝제', '1\\n라이신\\nLysine\\n헤어컨디셔닝제, 피부컨디셔닝제(기타)', '1\\n알지닌\\nArginine\\n착향제, 헤어컨디셔닝제, 피부컨디셔닝제', '1\\n타이로신\\nTyrosine\\n착향제, 모발컨디셔닝제, 피부컨디셔닝제', '1\\n페닐알라닌\\nPhenylalanine\\n향료, 모발컨디셔닝제, 피부컨디셔닝제', '1\\n프롤린\\nProline\\n향료, 모발컨디셔닝제, 피부컨디셔닝제', '1\\n트레오닌\\nThreonine\\n향료, 모발컨디셔닝제, 피부컨디셔닝제', '1\\n발린\\nValine\\n향료, 모발컨디셔닝제, 피부컨디셔닝제', '1\\n아이소류신\\nIsoleucine\\n헤어컨디셔닝제, 피부컨디셔닝제(기타)', '1\\n아스코빅애씨드\\nAscorbic Acid\\n산화방지제, 착향제, pH 조절제, 피부컨디셔닝제', '1\\n콜레스테롤\\nCholesterol\\n유화안정제, 피부컨디셔닝제, 점증제-비수용성', '1\\n히스티딘\\nHistidine\\n헤어컨디셔닝제, 피부컨디셔닝제(기타)', '1\\n시스테인\\nCysteine\\n산화방지제, 착향제, 헤어컨디셔닝제, 퍼머넌트웨이브용제/헤어스트레이트너용제, 환원제', '1\\n메티오닌\\nMethionine\\n헤어컨디셔닝제, 피부컨디셔닝제(기타)', '하이드롤라이즈드소듐하이알루로네이트\\nHydrolyzed Sodium Hyaluronate\\n피부컨디셔닝제(기타)', '1\\n소듐하이알루로네이트크로스폴리머\\nSodium Hyaluronate Crosspolymer\\n피부보습제, 피부컨디셔닝제', '1\\n포타슘하이알루로네이트\\nPotassium Hyaluronate\\n피부컨디셔닝제(기타)', '1\\n세라마이드엔피\\nCeramide NP\\n헤어컨디셔닝제, 피부컨디셔닝제(기타)', '8\\n향료\\nFragrance;Perfume;Parfum\\n착향제', '1\\n병풀추출물\\nCentella Asiatica Extract\\n피부컨디셔닝제', '인도멀구슬나무잎추출물\\nMelia Azadirachta Leaf Extract\\n피부컨디셔닝제(기타)', '인도멀구슬나무꽃추출물\\nMelia Azadirachta Flower Extract\\n피부컨디셔닝제(기타)', '1\\n병풀잎추출물\\nCentella Asiatica Leaf Extract\\n피부컨디셔닝제(기타)', '병풀뿌리추출물\\nCentella Asiatica Root Extract\\n피부컨디셔닝제(기타)', '1-2\\n글리세린\\nGlycerin\\n변성제, 착향제, 헤어컨디셔닝제, 보습제, 피부보호제, 피부컨디셔닝제(보습제), 점도감소제', '1\\n정제수\\nWater;Aqua\\n피부컨디셔닝제, 용제', '1\\n부틸렌글라이콜\\nButylene Glycol\\n착향제, 피부컨디셔닝제, 용제, 점도감소제', '1\\n다이카프릴릴에터\\nDicaprylyl Ether\\n피부컨디셔닝제(유연제)', '1\\n나이아신아마이드\\nNiacinamide\\n헤어컨디셔닝제, 피부컨디셔닝제(기타)', '1\\n비닐다이메티콘\\nVinyl Dimethicone', '1\\n1,2-헥산다이올\\n1,2-Hexanediol\\n용제', '1\\n바실러스발효물\\nBacillus Ferment', '1\\n카프릴릴메티콘\\nCaprylyl Methicone\\n피부컨디셔닝제(수분차단제)', '2\\n하이드로제네이티드폴리데센\\nHydrogenated Polydecene\\n향료, 모발컨디셔닝제, 피부유연화제, 피부컨디셔닝제, 용제', '1\\n펜틸렌글라이콜\\nPentylene Glycol\\n피부컨디셔닝제, 용제', '1\\n다이카프릴릴카보네이트\\nDicaprylyl Carbonate\\n피부컨디셔닝제(유연제)', '1\\n하이드록시에틸아크릴레이트/소듐아크릴로일다이메틸타우레이트코폴리머\\nHydroxyethyl Acrylate/Sodium Acryloyldimethyl Taurate Copolymer\\n유화안정제, 점도증가제(수성)', '1\\n판테놀\\nPanthenol\\n헤어컨디셔닝제, 용제, 피부컨디셔닝제(보습제)', '1\\n다이메티콘올\\nDimethiconol\\n기포방지제, 피부컨디셔닝제(유연제)', '1\\n아크릴레이트/C10-30알킬아크릴레이트크로스폴리머\\nAcrylates/C10-30 Alkyl Acrylate Crosspolymer\\n유화안정제, 점증제-수용성, 점증제-비수용성', '1\\n폴리메틸실세스퀴옥세인\\nPolymethylsilsesquioxane\\n불투명화제', '2\\n트로메타민\\nTromethamine\\n착향제, pH 조절제', '1\\n글리세릴아크릴레이트/아크릴릭애씨드코폴리머\\nGlyceryl Acrylate/Acrylic Acid Copolymer\\n피부컨디셔닝제(보습제), 점도증가제(수성)', '1\\n세테아릴올리베이트\\nCetearyl Olivate\\n수분증발차단제', '1\\n솔비탄올리베이트\\nSorbitan Olivate\\n계면활성제(유화제)', '1\\n에틸헥실글리세린\\nEthylhexylglycerin\\n피부컨디셔닝제(기타)', '1\\n소듐파이테이트\\nSodium Phytate\\n금속이온봉쇄제', '1\\n다이프로필렌글라이콜\\nDipropylene Glycol\\n착향제, 용제, 점도감소제, 피부컨디셔닝제', '1\\n마데카소사이드\\nMadecassoside\\n산화방지제, 피부보호제, 피부컨디셔닝제(기타)', '1\\n토코페롤\\nTocopherol\\n산화방지제, 착향제, 피부컨디셔닝제, 수분증발차단제', '1\\n아시아티코사이드\\nAsiaticoside\\n산화방지제, 피부컨디셔닝제', '1\\n마데카식애씨드\\nMadecassic Acid\\n피부컨디셔닝제(기타)', '1\\n아시아틱애씨드\\nAsiatic Acid\\n피부컨디셔닝제', '1\\n잔탄검\\nXanthan Gum\\n결합제, 유화안정제, 피부컨디셔닝제, 계면활성제-유화제, 점증제-수용성', '1\\n정제수\\nWater;Aqua\\n피부컨디셔닝제, 용제', '1\\n부틸렌글라이콜\\nButylene Glycol\\n착향제, 피부컨디셔닝제, 용제, 점도감소제', '1-2\\n글리세린\\nGlycerin\\n변성제, 착향제, 헤어컨디셔닝제, 보습제, 피부보호제, 피부컨디셔닝제(보습제), 점도감소제', '1\\n1,2-헥산다이올\\n1,2-Hexanediol\\n용제', '1\\n하이드로제네이티드다이데센\\nHydrogenated Didecene\\n피부컨디셔닝제(기타)', '1\\n알란토인\\nAllantoin\\n피부컨디셔닝제, 피부보호제', '1\\n트레할로오스\\nTrehalose\\n감미제, 보습제', '1\\n버지니아풍년화추출물\\nHamamelis Virginiana (Witch Hazel) Extract', '1\\n판테놀\\nPanthenol\\n헤어컨디셔닝제, 용제, 피부컨디셔닝제(보습제)', '1\\n하이드롤라이즈드하이알루로닉애씨드\\nHydrolyzed Hyaluronic Acid\\n헤어컨디셔닝제, 피부컨디셔닝제(보습제)', '1\\n소듐하이알루로네이트\\nSodium Hyaluronate\\n피부컨디셔닝제', '1\\n소듐하이알루로네이트크로스폴리머\\nSodium Hyaluronate Crosspolymer\\n피부보습제, 피부컨디셔닝제', '1\\n소듐아세틸레이티드하이알루로네이트\\nSodium Acetylated Hyaluronate\\n보습제', '하이드롤라이즈드소듐하이알루로네이트\\nHydrolyzed Sodium Hyaluronate\\n피부컨디셔닝제(기타)', '1\\n글리세릴아크릴레이트/아크릴릭애씨드코폴리머\\nGlyceryl Acrylate/Acrylic Acid Copolymer\\n피부컨디셔닝제(보습제), 점도증가제(수성)', '1\\n피브이엠/엠에이코폴리머\\nPVM/MA Copolymer\\n결합제, 유화안정제, 피막형성제, 모발고정제, 현탁화제-비계면활성제', '1\\n하이드록시에틸아크릴레이트/소듐아크릴로일다이메틸타우레이트코폴리머\\nHydroxyethyl Acrylate/Sodium Acryloyldimethyl Taurate Copolymer\\n유화안정제, 점도증가제(수성)', '2,3-부탄다이올\\n2,3-Butanediol\\n착향제, 보습제, 피부컨디셔닝제(보습제), 용제', '1\\n세테아릴알코올\\nCetearyl Alcohol\\n유화안정제, 불투명화제, 계면활성제-거품형성제, 점증제-수용성, 점증제-비수용성', '1\\nC14-22알코올\\nC14-22 Alcohols\\n유화안정제', '1\\nC12-20알킬글루코사이드\\nC12-20 Alkyl Glucoside\\n계면활성제-유화제', '1\\n펜틸렌글라이콜\\nPentylene Glycol\\n피부컨디셔닝제, 용제', '1\\n솔비탄아이소스테아레이트\\nSorbitan Isostearate\\n계면활성제(유화제)', '1\\n카프릴릭/카프릭트라이글리세라이드\\nCaprylic/Capric Triglyceride\\n착향제, 피부컨디셔닝제(수분차단제), 용제', '인도멀구슬나무잎추출물\\nMelia Azadirachta Leaf Extract\\n피부컨디셔닝제(기타)', '인도멀구슬나무꽃추출물\\nMelia Azadirachta Flower Extract\\n피부컨디셔닝제(기타)', '1\\n아이비고드열매추출물\\nCoccinia Indica Fruit Extract\\n피부컨디셔닝제(기타)', '1\\n가지열매추출물\\nSolanum Melongena (Eggplant) Fruit Extract\\n피부컨디셔닝제(기타)', '1\\n홀리바질잎추출물\\nOcimum Sanctum Leaf Extract\\n피부컨디셔닝제(기타)', '1\\n울금뿌리추출물\\nCurcuma Longa (Turmeric) Root Extract\\n착향제', '1\\n참산호말추출물\\nCorallina Officinalis Extract\\n착향제 피부컨디셔닝제(기타)', '1\\n클레리추출물\\nSalvia Sclarea (Clary) Extract\\n피부컨디셔닝제(기타)', '1\\n라벤더꽃추출물\\nLavandula Angustifolia (Lavender) Flower Extract\\n착향제', '1\\n히아신스전초추출물\\nHyacinthus Orientalis (Hyacinth) Extract\\n수렴제, 피부컨디셔닝제(기타)', '1\\n캐모마일꽃추출물\\nAnthemis Nobilis Flower Extract\\n향료, 피부컨디셔닝제, 수분증발차단제', '1\\n수레국화꽃추출물\\nCentaurea Cyanus Flower Extract\\n수렴제, 피부컨디셔닝제', '1\\n보리지추출물\\nBorago Officinalis Extract\\n산화방지제, 피부유연화제, 피부보습제, 피부컨디셔닝제, 피부보호제', '1\\n다이소듐이디티에이\\nDisodium EDTA\\n금속이온봉쇄제', '1\\n카보머\\nCarbomer\\n유화안정제, 점증제-수용성', '2\\n트로메타민\\nTromethamine\\n착향제, pH 조절제', '1\\n잔탄검\\nXanthan Gum\\n결합제, 유화안정제, 피부컨디셔닝제, 계면활성제-유화제, 점증제-수용성', '1\\n글루타티온\\nGlutathione\\n착향제, 환원제', '1\\n말라카이트추출물\\nMalachite Extract\\n산화방지제', '1\\n에틸헥실글리세린\\nEthylhexylglycerin\\n피부컨디셔닝제(기타)', '1\\n정제수\\nWater;Aqua\\n피부컨디셔닝제, 용제', '1-2\\n글리세린\\nGlycerin\\n변성제, 착향제, 헤어컨디셔닝제, 보습제, 피부보호제, 피부컨디셔닝제(보습제), 점도감소제', '2\\n프로판다이올\\nPropanediol\\n용제, 점도감소제', '1\\n코코-카프릴레이트/카프레이트\\nCoco-Caprylate/Caprate\\n피부유연화제', '1\\n1,2-헥산다이올\\n1,2-Hexanediol\\n용제', '3\\nC13-15알케인\\nC13-15 Alkane\\n용제', '1\\n부틸렌글라이콜\\nButylene Glycol\\n착향제, 피부컨디셔닝제, 용제, 점도감소제', '1\\n판테놀\\nPanthenol\\n헤어컨디셔닝제, 용제, 피부컨디셔닝제(보습제)', '1\\n카보머\\nCarbomer\\n유화안정제, 점증제-수용성', '1\\n락토바실러스/콩발효추출물\\nLactobacillus/Soybean Ferment Extract\\n피부컨디셔닝제(기타)', '2\\n트로메타민\\nTromethamine\\n착향제, pH 조절제', '2\\n하이드로제네이티드레시틴\\nHydrogenated Lecithin\\n계면활성제-유화제, 현탁화제-비계면활성제, 피부컨디셔닝제', '1\\n효모/감자추출물발효여과물\\nSaccharomyces/Potato Extract Ferment Filtrate\\n피부컨디셔닝제(보습제)', '1\\n아크릴레이트/C10-30알킬아크릴레이트크로스폴리머\\nAcrylates/C10-30 Alkyl Acrylate Crosspolymer\\n유화안정제, 점증제-수용성, 점증제-비수용성', '1\\n효모/보리씨발효여과물\\nSaccharomyces/Barley Seed Ferment Filtrate\\n피부컨디셔닝제(보습제)', '1\\n드럼스틱씨오일\\nMoringa Oleifera Seed Oil\\n피부보호제, 피부컨디셔닝제(유연제), 피부컨디셔닝제(보습제), 피부컨디셔닝제(수분차단제)', '1\\n로즈마리잎오일\\nRosmarinus Officinalis (Rosemary) Leaf Oil\\n착향제, 피부컨디셔닝제(기타)', '1\\n잇꽃꽃추출물\\nCarthamus Tinctorius (Safflower) Flower Extract\\n피부컨디셔닝제(기타)', '1\\n덱스트린\\nDextrin\\n흡수제, 결합제, 벌킹제(증량제), 점도증가제(수성)', '인도멀구슬나무잎추출물\\nMelia Azadirachta Leaf Extract\\n피부컨디셔닝제(기타)', '인도멀구슬나무꽃추출물\\nMelia Azadirachta Flower Extract\\n피부컨디셔닝제(기타)', '1\\n아이비고드열매추출물\\nCoccinia Indica Fruit Extract\\n피부컨디셔닝제(기타)', '1\\n알로에베라잎즙가루\\nAloe Barbadensis Leaf Juice Powder\\n피부컨디셔닝제', '2\\n녹차추출물\\nCamellia Sinensis Leaf Extract\\n산화방지제, 수렴제, 향료, 피부유연화제, 피부보습제, 피부컨디셔닝제, 피부보호제, 변색방지제', '1\\n알로에베라꽃추출물\\nAloe Barbadensis Flower Extract\\n피부컨디셔닝제', '1\\n가지열매추출물\\nSolanum Melongena (Eggplant) Fruit Extract\\n피부컨디셔닝제(기타)', '브루셀스프라우트추출물\\nBrassica Oleracea Gemmifera (Brussels Sprouts) Extract\\n수렴제', '브로콜리싹추출물\\nBrassica Oleracea Italica (Broccoli) Sprout Extract\\n피부유연화제', '1\\n호호바씨오일\\nSimmondsia Chinensis (Jojoba) Seed Oil\\n헤어컨디셔닝제, 피부컨디셔닝제(수분차단제)', '1\\n참산호말추출물\\nCorallina Officinalis Extract\\n착향제 피부컨디셔닝제(기타)', '1\\n울금뿌리추출물\\nCurcuma Longa (Turmeric) Root Extract\\n착향제', '1\\n홀리바질잎추출물\\nOcimum Sanctum Leaf Extract\\n피부컨디셔닝제(기타)', '3\\n서양톱풀추출물\\nAchillea Millefolium Extract\\n착향제, 피부컨디셔닝제(기타)', '1\\n포트마리골드꽃추출물\\nCalendula Officinalis Flower Extract\\n착향제, 피부컨디셔닝제(기타)', '1\\n라벤더꽃/잎/줄기추출물\\nLavandula Angustifolia (Lavender) Flower/Leaf/Stem Extract;Lavandula Spica (Lavender) Flower/Leaf/Stem Extract\\n감미제, 착향제, 피부컨디셔닝제(기타), 피부컨디셔닝제(수분차단제)', '1\\n살비아추출물\\nSalvia Officinalis (Sage) Extract\\n피부컨디셔닝제(기타)', '1\\n정제수\\nWater;Aqua\\n피부컨디셔닝제, 용제', '2\\n프로판다이올\\nPropanediol\\n용제, 점도감소제', '1-2\\n글리세린\\nGlycerin\\n변성제, 착향제, 헤어컨디셔닝제, 보습제, 피부보호제, 피부컨디셔닝제(보습제), 점도감소제', '1\\n메도우폼씨오일\\nLimnanthes Alba (Meadowfoam) Seed Oil\\n수분증발차단제', '1\\n베타인\\nBetaine\\n모발컨디셔닝제, 보습제, 피부보습제', '1\\n베헤닐알코올\\nBehenyl Alcohol\\n결합제, 유화안정제, 점증제-비수용성', '1\\n1,2-헥산다이올\\n1,2-Hexanediol\\n용제', '1\\n부틸렌글라이콜\\nButylene Glycol\\n착향제, 피부컨디셔닝제, 용제, 점도감소제', '1\\n카보머\\nCarbomer\\n유화안정제, 점증제-수용성', '1\\n피토스테롤\\nPhytosterols\\n피부컨디셔닝제', '1\\n호호바에스터\\nJojoba Esters\\n연마제, 피부컨디셔닝제(유연제)', '2\\n트로메타민\\nTromethamine\\n착향제, pH 조절제', '1\\n아라키딜알코올\\nArachidyl Alcohol\\n점증제-수용성, 점증제-비수용성, 유화안정제', '1\\n글리세릴카프릴레이트\\nGlyceryl Caprylate\\n피부컨디셔닝제(유연제), 계면활성제(유화제)', '1\\n에틸헥실글리세린\\nEthylhexylglycerin\\n피부컨디셔닝제(기타)', '1\\n다이소듐이디티에이\\nDisodium EDTA\\n금속이온봉쇄제', '1\\n아라키딜글루코사이드\\nArachidyl Glucoside\\n계면활성제-유화제', '1\\n콘민트잎추출물\\nMentha Arvensis Leaf Extract\\n피부컨디셔닝제(기타)', '1\\n서양산딸기추출물\\nRubus Fruticosus (Blackberry) Fruit Extract\\n착향제', '1\\n토코페롤\\nTocopherol\\n산화방지제, 착향제, 피부컨디셔닝제, 수분증발차단제', '1\\n글루코오스\\nGlucose\\n감미제, 보습제, 피부컨디셔닝제(보습제), 피부컨디셔닝제(기타)', '1\\n야생딸기잎추출물\\nFragaria Vesca (Strawberry) Leaf Extract\\n피부컨디셔닝제(기타)', '1\\n정제수\\nWater;Aqua\\n피부컨디셔닝제, 용제', '1\\nC12-15알킬벤조에이트\\nC12-15 Alkyl Benzoate\\n피부유연화제', '1\\n글리세릴스테아레이트에스이\\nGlyceryl Stearate SE\\n계면활성제(유화제)', '1\\n부틸렌글라이콜\\nButylene Glycol\\n착향제, 피부컨디셔닝제, 용제, 점도감소제', '1-2\\n글리세린\\nGlycerin\\n변성제, 착향제, 헤어컨디셔닝제, 보습제, 피부보호제, 피부컨디셔닝제(보습제), 점도감소제', '식물성오일\\nVegetable Oil;Olus Oil (EU)\\n헤어컨디셔닝제, 수분증발차단제', '1\\n아이소노닐아이소노나노에이트\\nIsononyl Isononanoate\\n피부컨디셔닝제(유연제), 용제', '1\\n세틸알코올\\nCetyl Alcohol\\n유화안정제, 향료, 불투명화제, 계면활성제-유화제, 계면활성제-거품형성제, 점증제-수용성, 점증제-비수용성', '1\\n에틸헥실팔미테이트\\nEthylhexyl Palmitate\\n착향제, 피부컨디셔닝제(유연제)', '3\\n사이클로펜타실록세인\\nCyclopentasiloxane\\n헤어컨디셔닝제, 피부컨디셔닝제(유연제), 용제', '3\\n다이메티콘\\nDimethicone\\n기포방지제, 피부보호제, 피부컨디셔닝제(수분차단제), 용제', '1\\n폴리에스터-7\\nPolyester-7\\n피막형성제, 피부컨디셔닝제(수분차단제), 점도증가제(비수성)', '4\\n페녹시에탄올\\nPhenoxyethanol\\n착향제, 보존제', '1\\n네오펜틸글라이콜다이헵타노에이트\\nNeopentyl Glycol Diheptanoate\\n피부컨디셔닝제(유연제), 점도증가제(비수성)', '1\\n시어버터\\nButyrospermum Parkii (Shea) Butter\\n피부컨디셔닝제(기타), 피부컨디셔닝제(수분차단제), 점도증가제(비수성)', '3\\n스테아레스-21\\nSteareth-21\\n계면활성제-세정제, 계면활성제-유화제, 계면활성제-용해보조제', '1\\n귀리커넬추출물\\nAvena Sativa (Oat) Kernel Extract\\n산화방지제, 피부컨디셔닝제(유연제), 피부컨디셔닝제(기타)', '1\\n카보머\\nCarbomer\\n유화안정제, 점증제-수용성', '1\\n다이메티콘올\\nDimethiconol\\n기포방지제, 피부컨디셔닝제(유연제)', '1\\n포타슘세틸포스페이트\\nPotassium Cetyl Phosphate\\n계면활성제-유화제', '2\\n클로페네신\\nChlorphenesin\\n보존제', '1\\n카프릴릴글라이콜\\nCaprylyl Glycol\\n모발컨디셔닝제, 피부유연화제', '1\\n잔탄검\\nXanthan Gum\\n결합제, 유화안정제, 피부컨디셔닝제, 계면활성제-유화제, 점증제-수용성', '1\\n하이드롤라이즈드삼색제비꽃추출물\\nHydrolyzed Viola Tricolor Extract\\n피부보호제', '1\\n알란토인\\nAllantoin\\n피부컨디셔닝제, 피부보호제', '1\\n알로에베라잎즙\\nAloe Barbadensis Leaf Juice\\n피부컨디셔닝제', '1\\n다이소듐이디티에이\\nDisodium EDTA\\n금속이온봉쇄제', '2-3\\n토코페릴아세테이트\\nTocopheryl Acetate\\n산화방지제, 피부컨디셔닝제', '1\\n유차나무씨오일\\nCamellia Oleifera Seed Oil\\n피부컨디셔닝제(기타)', '1\\n로즈힙열매오일\\nRosa Canina Fruit Oil\\n피부컨디셔닝제(기타)', '1\\n다마스크장미추출물\\nRosa Damascena Extract\\n착향제', '1-4\\n소듐하이드록사이드\\nSodium Hydroxide\\n변성제, pH 조절제', '1\\n해바라기씨오일\\nHelianthus Annuus (Sunflower) Seed Oil\\n피부컨디셔닝제(기타), 피부컨디셔닝제(수분차단제)', '1\\n화이트참파카잎오일\\nMichelia Alba Leaf Oil\\n착향제', '3\\n소듐락테이트\\nSodium Lactate\\npH 완충제, 각질제거제, 보습제', '1\\n코코-글루코사이드\\nCoco-glucoside\\n계면활성제-세정제', '3\\n피이지-8\\nPEG-8\\n보습제, 용제', '1\\n에틸헥실글리세린\\nEthylhexylglycerin\\n피부컨디셔닝제(기타)', '1\\n소듐하이알루로네이트\\nSodium Hyaluronate\\n피부컨디셔닝제', '1\\n토코페롤\\nTocopherol\\n산화방지제, 착향제, 피부컨디셔닝제, 수분증발차단제', '1\\n팔미토일테트라펩타이드-7\\nPalmitoyl Tetrapeptide-7\\n피부컨디셔닝제', '1\\n팔미토일트라이펩타이드-1\\nPalmitoyl Tripeptide-1\\n피부컨디셔닝제(기타)', '1\\n아스코빌팔미테이트\\nAscorbyl Palmitate\\n산화방지제, 향료', '1\\n푸르메리아 루브라꽃추출물\\nPlumeria Rubra Flower Extract\\n피부컨디셔닝제(기타)', '1\\n아스코빅애씨드\\nAscorbic Acid\\n산화방지제, 착향제, pH 조절제, 피부컨디셔닝제', '1-2\\n시트릭애씨드\\nCitric Acid\\n금속이온봉쇄제, 향료, pH 조절제', '실베스트리스꽃담배잎세포배양물\\nNicotiana Sylvestris Leaf Cell Culture\\n피부컨디셔닝제(기타)', '3\\n리날룰\\nLinalool\\n착향제', '3-4\\n시트로넬올\\nCitronellol\\n착향제', '7\\n제라니올\\nGeraniol\\n착향제', '1\\n정제수\\nWater;Aqua\\n피부컨디셔닝제, 용제', '2\\n프로판다이올\\nPropanediol\\n용제, 점도감소제', '1\\n카프릴릭/카프릭트라이글리세라이드\\nCaprylic/Capric Triglyceride\\n착향제, 피부컨디셔닝제(수분차단제), 용제', '1-2\\n글리세린\\nGlycerin\\n변성제, 착향제, 헤어컨디셔닝제, 보습제, 피부보호제, 피부컨디셔닝제(보습제), 점도감소제', '1\\n다이프로필렌글라이콜\\nDipropylene Glycol\\n착향제, 용제, 점도감소제, 피부컨디셔닝제', '1\\n카프릴릴메티콘\\nCaprylyl Methicone\\n피부컨디셔닝제(수분차단제)', '1\\n1,2-헥산다이올\\n1,2-Hexanediol\\n용제', '1\\n트레할로오스\\nTrehalose\\n감미제, 보습제', '1\\n한련초추출물\\nEclipta Prostrata Extract\\n피부컨디셔닝제(기타)', '1\\n부틸렌글라이콜\\nButylene Glycol\\n착향제, 피부컨디셔닝제, 용제, 점도감소제', '1\\n카보머\\nCarbomer\\n유화안정제, 점증제-수용성', '1\\n암모늄아크릴로일다이메틸타우레이트/브이피코폴리머\\nAmmonium Acryloyldimethyltaurate/VP Copolymer\\n점도증가제(수성)', '2\\n트로메타민\\nTromethamine\\n착향제, pH 조절제', '칸디다 봄비콜라/글루코오스/메틸레이프씨데이트발효물\\nCandida Bombicola/Glucose/Methyl Rapeseedate Ferment\\n계면활성제(세정제)', '인도멀구슬나무잎추출물\\nMelia Azadirachta Leaf Extract\\n피부컨디셔닝제(기타)', '1\\n잔탄검\\nXanthan Gum\\n결합제, 유화안정제, 피부컨디셔닝제, 계면활성제-유화제, 점증제-수용성', '1\\n에틸헥실글리세린\\nEthylhexylglycerin\\n피부컨디셔닝제(기타)', '1\\n아이비고드열매추출물\\nCoccinia Indica Fruit Extract\\n피부컨디셔닝제(기타)', '인도멀구슬나무꽃추출물\\nMelia Azadirachta Flower Extract\\n피부컨디셔닝제(기타)', '1\\n홀리바질잎추출물\\nOcimum Sanctum Leaf Extract\\n피부컨디셔닝제(기타)', '1\\n라즈베리추출물\\nRubus Idaeus (Raspberry) Fruit Extract\\n피부컨디셔닝제(기타)', '2\\n자몽추출물\\nCitrus Paradisi (Grapefruit) Fruit Extract\\n피부컨디셔닝제(기타)', '1\\n오렌지추출물\\nCitrus Aurantium Dulcis (Orange) Fruit Extract\\n향료, 피부컨디셔닝제', '1\\n소듐하이알루로네이트\\nSodium Hyaluronate\\n피부컨디셔닝제', '1\\n다이소듐이디티에이\\nDisodium EDTA\\n금속이온봉쇄제', '1\\n울금뿌리추출물\\nCurcuma Longa (Turmeric) Root Extract\\n착향제', '1\\n해바라기씨오일\\nHelianthus Annuus (Sunflower) Seed Oil\\n피부컨디셔닝제(기타), 피부컨디셔닝제(수분차단제)', '1\\n참산호말추출물\\nCorallina Officinalis Extract\\n착향제 피부컨디셔닝제(기타)', '1\\n드럼스틱씨오일\\nMoringa Oleifera Seed Oil\\n피부보호제, 피부컨디셔닝제(유연제), 피부컨디셔닝제(보습제), 피부컨디셔닝제(수분차단제)', '2\\n하이드로제네이티드레시틴\\nHydrogenated Lecithin\\n계면활성제-유화제, 현탁화제-비계면활성제, 피부컨디셔닝제', '1\\n에톡시다이글라이콜\\nEthoxydiglycol\\n착향제, 용제, 점도감소제', '1\\n폴리글리세릴-10올리에이트\\nPolyglyceryl-10 Oleate\\n피부유연화제, 계면활성제-유화제', '1\\n아시아티코사이드\\nAsiaticoside\\n산화방지제, 피부컨디셔닝제', '석류추출물\\nPunica Granatum Fruit Extract\\n피부컨디셔닝제(기타)', '1\\n보검선인장줄기추출물\\nOpuntia Ficus-Indica Stem Extract\\n피부컨디셔닝제(기타)', '1\\n마데카식애씨드\\nMadecassic Acid\\n피부컨디셔닝제(기타)', '1\\n아시아틱애씨드\\nAsiatic Acid\\n피부컨디셔닝제', '보검선인장캘러스배양추출물\\nOpuntia Ficus-Indica Callus Culture Extract\\n산화방지제, 헤어컨디셔닝제, 피부보호제, 피부컨디셔닝제(보습제)', '1\\n레스베라트롤\\nResveratrol\\n산화방지제, 피부보호제', '편백잎추출물\\nChamaecyparis Obtusa Leaf Extract\\n피부컨디셔닝제(기타)', '1\\n스쿠알란\\nSqualane\\n모발컨디셔닝제, 수분증발차단제', '1\\n부틸렌글라이콜\\nButylene Glycol\\n착향제, 피부컨디셔닝제, 용제, 점도감소제', '1\\n시어버터\\nButyrospermum Parkii (Shea) Butter\\n피부컨디셔닝제(기타), 피부컨디셔닝제(수분차단제), 점도증가제(비수성)', '1\\n알지닌\\nArginine\\n착향제, 헤어컨디셔닝제, 피부컨디셔닝제', '소엽잎추출물\\nPerilla Frutescens Leaf Extract\\n피부컨디셔닝제(기타)', '약모밀추출물\\nHouttuynia Cordata Extract\\n피부컨디셔닝제(기타)', '1\\n자작나무수액\\nBetula Platyphylla Japonica Juice\\n피부컨디셔닝제(기타)', '1\\n티트리추출물\\nMelaleuca Alternifolia (Tea Tree) Extract\\n피부컨디셔닝제', '1\\n병풀추출물\\nCentella Asiatica Extract\\n피부컨디셔닝제', '소나무잎추출물\\nPinus Densiflora Leaf Extract\\n산화방지제', '1\\n라벤더꽃추출물\\nLavandula Angustifolia (Lavender) Flower Extract\\n착향제', '1\\n블랙윌로우나무껍질추출물\\nSalix Nigra (Willow) Bark Extract\\n피부컨디셔닝제(기타)', '1\\n베타-글루칸\\nBeta-Glucan\\n벌킹제, 피부컨디셔닝제', '1\\n소듐하이알루로네이트크로스폴리머\\nSodium Hyaluronate Crosspolymer\\n피부보습제, 피부컨디셔닝제', '1\\n히비스커스꽃추출물\\nHibiscus Sabdariffa Flower Extract\\n세포용해제, 피부컨디셔닝제(기타)', '1\\n소듐하이알루로네이트\\nSodium Hyaluronate\\n피부컨디셔닝제', '1\\n하이드롤라이즈드하이알루로닉애씨드\\nHydrolyzed Hyaluronic Acid\\n헤어컨디셔닝제, 피부컨디셔닝제(보습제)', '1\\n하이알루로닉애씨드\\nHyaluronic Acid\\n피부컨디셔닝제(기타), 점도증가제(수성)', '하이드롤라이즈드소듐하이알루로네이트\\nHydrolyzed Sodium Hyaluronate\\n피부컨디셔닝제(기타)', '1\\n메틸글루세스-20\\nMethyl Gluceth-20\\n피부컨디셔닝제(보습제)', '1\\n세테아릴올리베이트\\nCetearyl Olivate\\n수분증발차단제', '1\\n솔비탄올리베이트\\nSorbitan Olivate\\n계면활성제(유화제)', '1\\n암모늄아크릴로일다이메틸타우레이트/브이피코폴리머\\nAmmonium Acryloyldimethyltaurate/VP Copolymer\\n점도증가제(수성)', '1\\n카보머\\nCarbomer\\n유화안정제, 점증제-수용성', '1\\n정제수\\nWater;Aqua\\n피부컨디셔닝제, 용제', '2\\n프로판다이올\\nPropanediol\\n용제, 점도감소제', '1\\n소듐파이테이트\\nSodium Phytate\\n금속이온봉쇄제', '1-2\\n글리세린\\nGlycerin\\n변성제, 착향제, 헤어컨디셔닝제, 보습제, 피부보호제, 피부컨디셔닝제(보습제), 점도감소제', '1\\n1,2-헥산다이올\\n1,2-Hexanediol\\n용제', '1\\n에틸헥실글리세린\\nEthylhexylglycerin\\n피부컨디셔닝제(기타)', '1\\n멕시칸주니퍼오일\\nJuniperus Mexicana Oil\\n착향제', '1\\n광곽향오일\\nPogostemon Cablin Oil\\n착향제', '1\\n베티버뿌리오일\\nVetiveria Zizanoides Root Oil\\n착향제', '1\\n정제수\\nWater;Aqua\\n피부컨디셔닝제, 용제', '1-2\\n글리세린\\nGlycerin\\n변성제, 착향제, 헤어컨디셔닝제, 보습제, 피부보호제, 피부컨디셔닝제(보습제), 점도감소제', '1\\n부틸렌글라이콜\\nButylene Glycol\\n착향제, 피부컨디셔닝제, 용제, 점도감소제', '1\\n스쿠알란\\nSqualane\\n모발컨디셔닝제, 수분증발차단제', '1\\n비스-하이드록시에톡시프로필다이메티콘\\nBis-Hydroxyethoxypropyl Dimethicone\\n피부컨디셔닝제(유연제)', '1\\n카프릴릭/카프릭/미리스틱/스테아릭트라이글리세라이드\\nCaprylic/Capric/Myristic/Stearic Triglyceride\\n피부컨디셔닝제(수분차단제)', '1\\n수크로오스폴리스테아레이트\\nSucrose Polystearate\\n피부컨디셔닝제(유연제), 계면활성제(유화제)', '1\\n나이아신아마이드\\nNiacinamide\\n헤어컨디셔닝제, 피부컨디셔닝제(기타)', '1\\n다이카프릴릴에터\\nDicaprylyl Ether\\n피부컨디셔닝제(유연제)', '1\\n메틸트라이메티콘\\nMethyl Trimethicone\\n헤어컨디셔닝제, 피부컨디셔닝제(기타), 용제', '3\\n우레아\\nUrea\\npH 완충제, 보습제, 피부보습제', '1\\n펜타에리스리틸테트라에틸헥사노에이트\\nPentaerythrityl Tetraethylhexanoate\\n결합제, 피부컨디셔닝제(수분차단제), 점도증가제(비수성)', '1\\n1,2-헥산다이올\\n1,2-Hexanediol\\n용제', '1\\n글리세릴스테아레이트\\nGlyceryl Stearate\\n착향제, 피부컨디셔닝제(유연제), 계면활성제(유화제)', '1\\n카카오씨버터\\nTheobroma Cacao (Cocoa) Seed Butter\\n착향제, 피부보호제, 피부컨디셔닝제(수분차단제)', '1\\n폴리글리세릴-3메틸글루코오스다이스테아레이트\\nPolyglyceryl-3 Methylglucose Distearate\\n피부컨디셔닝제(유연제), 계면활성제(유화제)', '1\\n스테아릭애씨드\\nStearic Acid\\n착향제, 계면활성제(세정제), 계면활성제(유화제)', '1\\n피토스테롤\\nPhytosterols\\n피부컨디셔닝제', '1\\n팔미틱애씨드\\nPalmitic Acid\\n착향제, 불투명화제, 계면활성제(세정제), 계면활성제(유화제)', '1\\n하이드로제네이티드폴리아이소부텐\\nHydrogenated Polyisobutene\\n피부컨디셔닝제(유연제), 점도증가제(비수성)', '1\\n하이드록시에틸아크릴레이트/소듐아크릴로일다이메틸타우레이트코폴리머\\nHydroxyethyl Acrylate/Sodium Acryloyldimethyl Taurate Copolymer\\n유화안정제, 점도증가제(수성)', '1\\n세테아릴알코올\\nCetearyl Alcohol\\n유화안정제, 불투명화제, 계면활성제-거품형성제, 점증제-수용성, 점증제-비수용성', '1\\n아크릴레이트/C10-30알킬아크릴레이트크로스폴리머\\nAcrylates/C10-30 Alkyl Acrylate Crosspolymer\\n유화안정제, 점증제-수용성, 점증제-비수용성', '1\\n잔탄검\\nXanthan Gum\\n결합제, 유화안정제, 피부컨디셔닝제, 계면활성제-유화제, 점증제-수용성', '1\\n글리세릴카프릴레이트\\nGlyceryl Caprylate\\n피부컨디셔닝제(유연제), 계면활성제(유화제)', '2\\n트로메타민\\nTromethamine\\n착향제, pH 조절제', '1\\n에틸헥실글리세린\\nEthylhexylglycerin\\n피부컨디셔닝제(기타)', '8\\n향료\\nFragrance;Perfume;Parfum\\n착향제', '1\\n솔비탄아이소스테아레이트\\nSorbitan Isostearate\\n계면활성제(유화제)', '1\\n다이소듐이디티에이\\nDisodium EDTA\\n금속이온봉쇄제', '4-5\\n리모넨\\nLimonene\\n착향제, 용제', '1\\n마데카소사이드\\nMadecassoside\\n산화방지제, 피부보호제, 피부컨디셔닝제(기타)', '1\\n서양산딸기추출물\\nRubus Fruticosus (Blackberry) Fruit Extract\\n착향제', '3\\n리날룰\\nLinalool\\n착향제', '1\\n미리스틱애씨드\\nMyristic Acid\\n착향제, 불투명화제, 계면활성제(세정제)', '1\\n아라키딕애씨드\\nArachidic Acid\\n계면활성제(세정제)', '1\\n토코페롤\\nTocopherol\\n산화방지제, 착향제, 피부컨디셔닝제, 수분증발차단제', '1\\n야생딸기잎추출물\\nFragaria Vesca (Strawberry) Leaf Extract\\n피부컨디셔닝제(기타)', '1\\n돌콩오일\\nGlycine Soja (Soybean) Oil\\n산화방지제, 착향제, 피부컨디셔닝제(수분차단제)', '1\\n정제수\\nWater;Aqua\\n피부컨디셔닝제, 용제', '1\\n스쿠알란\\nSqualane\\n모발컨디셔닝제, 수분증발차단제', '1-2\\n글리세린\\nGlycerin\\n변성제, 착향제, 헤어컨디셔닝제, 보습제, 피부보호제, 피부컨디셔닝제(보습제), 점도감소제', '1\\n1,2-헥산다이올\\n1,2-Hexanediol\\n용제', '1\\n베타인\\nBetaine\\n모발컨디셔닝제, 보습제, 피부보습제', '1\\n판테놀\\nPanthenol\\n헤어컨디셔닝제, 용제, 피부컨디셔닝제(보습제)', '1\\n소듐하이알루로네이트\\nSodium Hyaluronate\\n피부컨디셔닝제', '1\\n하이드롤라이즈드콜라겐\\nHydrolyzed Collagen\\n헤어컨디셔닝제, 네일컨디셔닝제, 피부컨디셔닝제', '1\\n하이드록시프로필트라이모늄하이알루로네이트\\nHydroxypropyltrimonium Hyaluronate\\n피막형성제, 보습제', '1\\n하이드롤라이즈드하이알루로닉애씨드\\nHydrolyzed Hyaluronic Acid\\n헤어컨디셔닝제, 피부컨디셔닝제(보습제)', '1\\n소듐아세틸레이티드하이알루로네이트\\nSodium Acetylated Hyaluronate\\n보습제', '1\\n아세틸헥사펩타이드-8\\nAcetyl Hexapeptide-8\\n피부컨디셔닝제(보습제)', '1\\n아데노신\\nAdenosine\\n피부컨디셔닝제, 주름개선(기능성화장품)', '1\\n하이알루로닉애씨드\\nHyaluronic Acid\\n피부컨디셔닝제(기타), 점도증가제(수성)', '하이드롤라이즈드소듐하이알루로네이트\\nHydrolyzed Sodium Hyaluronate\\n피부컨디셔닝제(기타)', '1\\n소듐하이알루로네이트크로스폴리머\\nSodium Hyaluronate Crosspolymer\\n피부보습제, 피부컨디셔닝제', '1\\n포타슘하이알루로네이트\\nPotassium Hyaluronate\\n피부컨디셔닝제(기타)', '1\\n아크릴레이트/C10-30알킬아크릴레이트크로스폴리머\\nAcrylates/C10-30 Alkyl Acrylate Crosspolymer\\n유화안정제, 점증제-수용성, 점증제-비수용성', '1\\n알지닌\\nArginine\\n착향제, 헤어컨디셔닝제, 피부컨디셔닝제', '1\\n알란토인\\nAllantoin\\n피부컨디셔닝제, 피부보호제', '1\\n자일리틸글루코사이드\\nXylitylglucoside\\n피부컨디셔닝제(보습제)', '1\\n안하이드로자일리톨\\nAnhydroxylitol\\n피부컨디셔닝제(보습제)', '1\\n자일리톨\\nXylitol\\n감미제, 보습제, 피부보습제', '1\\n글루코오스\\nGlucose\\n감미제, 보습제, 피부컨디셔닝제(보습제), 피부컨디셔닝제(기타)', '1\\n부틸렌글라이콜\\nButylene Glycol\\n착향제, 피부컨디셔닝제, 용제, 점도감소제', '1\\n암모늄아크릴로일다이메틸타우레이트/브이피코폴리머\\nAmmonium Acryloyldimethyltaurate/VP Copolymer\\n점도증가제(수성)', '1\\n카프릴릴글라이콜\\nCaprylyl Glycol\\n모발컨디셔닝제, 피부유연화제', '1\\n하이드롤라이즈드콜라겐\\nHydrolyzed Collagen\\n헤어컨디셔닝제, 네일컨디셔닝제, 피부컨디셔닝제', '2\\n프로판다이올\\nPropanediol\\n용제, 점도감소제', '1\\n정제수\\nWater;Aqua\\n피부컨디셔닝제, 용제', '1-2\\n글리세린\\nGlycerin\\n변성제, 착향제, 헤어컨디셔닝제, 보습제, 피부보호제, 피부컨디셔닝제(보습제), 점도감소제', '1\\n부틸렌글라이콜\\nButylene Glycol\\n착향제, 피부컨디셔닝제, 용제, 점도감소제', '1\\n펜타에리스리틸테트라에틸헥사노에이트\\nPentaerythrityl Tetraethylhexanoate\\n결합제, 피부컨디셔닝제(수분차단제), 점도증가제(비수성)', '1\\n메틸트라이메티콘\\nMethyl Trimethicone\\n헤어컨디셔닝제, 피부컨디셔닝제(기타), 용제', '1\\n글리세릴폴리메타크릴레이트\\nGlyceryl Polymethacrylate\\n피막형성제', '1\\n1,2-헥산다이올\\n1,2-Hexanediol\\n용제', '1\\n베타인\\nBetaine\\n모발컨디셔닝제, 보습제, 피부보습제', '1\\n하이드로제네이티드폴리(C6-14올레핀)\\nHydrogenated Poly(C6-14 Olefin)\\n피부컨디셔닝제(수분차단제), 점도증가제(비수성)', '1\\n다이카프릴릴에터\\nDicaprylyl Ether\\n피부컨디셔닝제(유연제)', '1\\n글리세릴스테아레이트\\nGlyceryl Stearate\\n착향제, 피부컨디셔닝제(유연제), 계면활성제(유화제)', '1\\nC14-22알코올\\nC14-22 Alcohols\\n유화안정제', '1\\n암모늄아크릴로일다이메틸타우레이트/브이피코폴리머\\nAmmonium Acryloyldimethyltaurate/VP Copolymer\\n점도증가제(수성)', '1\\n글리세릴스테아레이트시트레이트\\nGlyceryl Stearate Citrate\\n피부컨디셔닝제(유연제), 계면활성제(유화제)', '1\\n하이드록시에틸아크릴레이트/소듐아크릴로일다이메틸타우레이트코폴리머\\nHydroxyethyl Acrylate/Sodium Acryloyldimethyl Taurate Copolymer\\n유화안정제, 점도증가제(수성)', '1\\n아라키딜알코올\\nArachidyl Alcohol\\n점증제-수용성, 점증제-비수용성, 유화안정제', '1-2\\n실리카\\nSilica\\n스크럽제, 흡수제, 안티케이킹제, 벌킹제, 불투명화제, 현탁화제-비계면활성제', '1\\n베헤닐알코올\\nBehenyl Alcohol\\n결합제, 유화안정제, 점증제-비수용성', '1\\nC12-20알킬글루코사이드\\nC12-20 Alkyl Glucoside\\n계면활성제-유화제', '1\\n아라키딜글루코사이드\\nArachidyl Glucoside\\n계면활성제-유화제', '1\\n글리세릴카프릴레이트\\nGlyceryl Caprylate\\n피부컨디셔닝제(유연제), 계면활성제(유화제)', '1\\n다이소듐이디티에이\\nDisodium EDTA\\n금속이온봉쇄제', '1\\n에틸헥실글리세린\\nEthylhexylglycerin\\n피부컨디셔닝제(기타)', '1\\n솔비탄아이소스테아레이트\\nSorbitan Isostearate\\n계면활성제(유화제)', '1\\n하이드롤라이즈드루핀단백질\\nHydrolyzed Lupine Protein\\n헤어컨디셔닝제, 피부컨디셔닝제(기타)', '1\\n글루코오스\\nGlucose\\n감미제, 보습제, 피부컨디셔닝제(보습제), 피부컨디셔닝제(기타)', '1\\n토코페롤\\nTocopherol\\n산화방지제, 착향제, 피부컨디셔닝제, 수분증발차단제', '1\\n정제수\\nWater;Aqua\\n피부컨디셔닝제, 용제', '1\\n다이프로필렌글라이콜\\nDipropylene Glycol\\n착향제, 용제, 점도감소제, 피부컨디셔닝제', '1-2\\n글리세린\\nGlycerin\\n변성제, 착향제, 헤어컨디셔닝제, 보습제, 피부보호제, 피부컨디셔닝제(보습제), 점도감소제', '1\\n부틸렌글라이콜\\nButylene Glycol\\n착향제, 피부컨디셔닝제, 용제, 점도감소제', '1\\n비닐다이메티콘\\nVinyl Dimethicone', '1\\n1,2-헥산다이올\\n1,2-Hexanediol\\n용제', '피뿌리풀추출물', '1\\n카보머\\nCarbomer\\n유화안정제, 점증제-수용성', '1\\n하이드롤라이즈드오크라추출물\\nHydrolyzed Hibiscus Esculentus Extract\\n피부컨디셔닝제(기타)', '1\\n드럼스틱씨추출물\\nMoringa Oleifera Seed Extract;Moringa Pterygosperma Seed Extract\\n피부컨디셔닝제(기타)', '1\\n화이트루핀씨추출물\\nLupinus Albus Seed Extract\\n피부컨디셔닝제(기타)', '1\\n폴리글리세릴-3메틸글루코오스다이스테아레이트\\nPolyglyceryl-3 Methylglucose Distearate\\n피부컨디셔닝제(유연제), 계면활성제(유화제)', '1\\n카프릴릭/카프릭트라이글리세라이드\\nCaprylic/Capric Triglyceride\\n착향제, 피부컨디셔닝제(수분차단제), 용제', '2\\n트로메타민\\nTromethamine\\n착향제, pH 조절제', '1\\nC14-22알코올\\nC14-22 Alcohols\\n유화안정제', '2\\n하이드로제네이티드폴리데센\\nHydrogenated Polydecene\\n향료, 모발컨디셔닝제, 피부유연화제, 피부컨디셔닝제, 용제', '1\\n카프릴릴글라이콜\\nCaprylyl Glycol\\n모발컨디셔닝제, 피부유연화제', '1\\n글리세릴스테아레이트\\nGlyceryl Stearate\\n착향제, 피부컨디셔닝제(유연제), 계면활성제(유화제)', '1\\nC12-20알킬글루코사이드\\nC12-20 Alkyl Glucoside\\n계면활성제-유화제', '1\\n팔미틱애씨드\\nPalmitic Acid\\n착향제, 불투명화제, 계면활성제(세정제), 계면활성제(유화제)', '1\\n에틸헥실글리세린\\nEthylhexylglycerin\\n피부컨디셔닝제(기타)', '1\\n스테아릭애씨드\\nStearic Acid\\n착향제, 계면활성제(세정제), 계면활성제(유화제)', '1\\n잔탄검\\nXanthan Gum\\n결합제, 유화안정제, 피부컨디셔닝제, 계면활성제-유화제, 점증제-수용성', '1\\n다이소듐이디티에이\\nDisodium EDTA\\n금속이온봉쇄제', '1\\n토코페롤\\nTocopherol\\n산화방지제, 착향제, 피부컨디셔닝제, 수분증발차단제']\n"
     ]
    }
   ],
   "source": [
    "print(ewg_list)"
   ]
  },
  {
   "cell_type": "code",
   "execution_count": 64,
   "id": "ea91a3cf",
   "metadata": {},
   "outputs": [
    {
     "ename": "IndexError",
     "evalue": "list index out of range",
     "output_type": "error",
     "traceback": [
      "\u001b[1;31m---------------------------------------------------------------------------\u001b[0m",
      "\u001b[1;31mIndexError\u001b[0m                                Traceback (most recent call last)",
      "Input \u001b[1;32mIn [64]\u001b[0m, in \u001b[0;36m<cell line: 30>\u001b[1;34m()\u001b[0m\n\u001b[0;32m     32\u001b[0m time\u001b[38;5;241m.\u001b[39msleep(\u001b[38;5;241m1\u001b[39m)\n\u001b[0;32m     33\u001b[0m imgs2 \u001b[38;5;241m=\u001b[39m driver\u001b[38;5;241m.\u001b[39mfind_elements(By\u001b[38;5;241m.\u001b[39mCLASS_NAME, \u001b[38;5;124m'\u001b[39m\u001b[38;5;124mfont-normal\u001b[39m\u001b[38;5;124m'\u001b[39m)\n\u001b[1;32m---> 34\u001b[0m \u001b[43mimgs2\u001b[49m\u001b[43m[\u001b[49m\u001b[43mi\u001b[49m\u001b[43m]\u001b[49m\u001b[38;5;241m.\u001b[39mclick()\n\u001b[0;32m     35\u001b[0m time\u001b[38;5;241m.\u001b[39msleep(\u001b[38;5;241m0.5\u001b[39m)\n\u001b[0;32m     36\u001b[0m \u001b[38;5;66;03m# 제품 이름 갖고 오기\u001b[39;00m\n",
      "\u001b[1;31mIndexError\u001b[0m: list index out of range"
     ]
    }
   ],
   "source": [
    "from selenium import webdriver as wb\n",
    "from selenium.webdriver.common.keys import Keys\n",
    "from selenium.webdriver.common.by import By\n",
    "import time\n",
    "\n",
    "# --전체 테스트---\n",
    "driver = wb.Chrome()\n",
    "driver.maximize_window()\n",
    "driver.get('https://www.glowpick.com/searches/keywords')\n",
    "ewg_list = []\n",
    "ewg_list2 = []\n",
    "title_list = []\n",
    "product_list = []\n",
    "time.sleep(0.5)\n",
    "che = driver.find_element(By.CLASS_NAME, 'buttons__button.buttons__not-today')\n",
    "che.click()\n",
    "search = driver.find_element(By.CLASS_NAME,'header__input.copyable') \n",
    "search.send_keys('수분크림')\n",
    "search.send_keys(Keys.ENTER)\n",
    "\n",
    "#for i in range(50):\n",
    "#    body = driver.find_element(By.TAG_NAME, 'body')\n",
    "#    body.send_keys(Keys.END)\n",
    "#    time.sleep(0.5)\n",
    "\n",
    "#last_height = driver.execute_script(\"return document.body.scrollHeight\")\n",
    "# 스크롤 위로 올리기\n",
    "#driver.execute_script(\"window.scrollTo(0,0)\")\n",
    "\n",
    "for i in range(100):    \n",
    "    # 상품 클릭 / 상세 정보페이지\n",
    "    time.sleep(1)\n",
    "    imgs2 = driver.find_elements(By.CLASS_NAME, 'font-normal')\n",
    "    imgs2[i].click()\n",
    "    time.sleep(0.5)\n",
    "    # 제품 이름 갖고 오기\n",
    "    title = driver.find_element(By.CLASS_NAME, 'product__summary__name')\n",
    "    title_list.append(title.text)\n",
    "    # 스크롤 한 번 내리기\n",
    "    driver.execute_script(\"window.scrollTo(0,10)\")\n",
    "    time.sleep(0.5)\n",
    "    che2 = driver.find_element(By.CLASS_NAME, 'info__article__h3__button')\n",
    "    che2.click()\n",
    "    time.sleep(0.5)\n",
    "    ewg = driver.find_elements(By.CLASS_NAME, 'item__wrapper')\n",
    "    for i in ewg:\n",
    "        ewg_list2.append(i.text)\n",
    "    ewg_list.append(ewg_list2) \n",
    "    time.sleep(0.1)\n",
    "    # 스크롤 위로 올리기\n",
    "    driver.execute_script(\"window.scrollTo(0,0)\")\n",
    "    che3 = driver.find_element(By.CLASS_NAME, 'details__contents__h1__button')\n",
    "    che3.click()\n",
    "    time.sleep(0.5)\n",
    "    product = driver.find_element(By.CLASS_NAME, 'info__text.description__text')\n",
    "    product_list.append(product.text)\n",
    "    driver.back()\n",
    "    driver.execute_script(\"window.scrollTo(0,200)\")"
   ]
  },
  {
   "cell_type": "code",
   "execution_count": 65,
   "id": "88aadbf1",
   "metadata": {},
   "outputs": [
    {
     "data": {
      "text/plain": [
       "20"
      ]
     },
     "execution_count": 65,
     "metadata": {},
     "output_type": "execute_result"
    }
   ],
   "source": [
    "len(ewg_list)"
   ]
  },
  {
   "cell_type": "code",
   "execution_count": 28,
   "id": "e80bd62e",
   "metadata": {},
   "outputs": [],
   "source": [
    "import pandas as pd\n",
    "import numpy as np"
   ]
  },
  {
   "cell_type": "code",
   "execution_count": 29,
   "id": "795574e0",
   "metadata": {},
   "outputs": [
    {
     "data": {
      "text/plain": [
       "0                         1\\n정제수\\nWater;Aqua\\n피부컨디셔닝제, 용제\n",
       "1                        1\\n1,2-헥산다이올\\n1,2-Hexanediol\\n용제\n",
       "2            1\\n판테놀\\nPanthenol\\n헤어컨디셔닝제, 용제, 피부컨디셔닝제(보습제)\n",
       "3       1\\n카프릴릭/카프릭트라이글리세라이드\\nCaprylic/Capric Triglyce...\n",
       "4       1\\n에틸헥실아이소노나노에이트\\nEthylhexyl Isononanoate\\n피부컨...\n",
       "                              ...                        \n",
       "1288                     1\\n우릭애씨드\\nUric Acid\\n피부컨디셔닝제(기타)\n",
       "1289                           1\\n크레아틴\\nCreatine\\n피부컨디셔닝제\n",
       "1290             1\\n아세틸글루코사민\\nAcetyl Glucosamine\\n피부컨디셔닝제\n",
       "1291    1\\n시스테인\\nCysteine\\n산화방지제, 착향제, 헤어컨디셔닝제, 퍼머넌트웨이...\n",
       "1292            1\\n메티오닌\\nMethionine\\n헤어컨디셔닝제, 피부컨디셔닝제(기타)\n",
       "Length: 1293, dtype: object"
      ]
     },
     "execution_count": 29,
     "metadata": {},
     "output_type": "execute_result"
    }
   ],
   "source": [
    "pd.Series(ewg_list)"
   ]
  },
  {
   "cell_type": "code",
   "execution_count": 42,
   "id": "0a29721f",
   "metadata": {
    "scrolled": true
   },
   "outputs": [],
   "source": [
    "dic= {'상품명':title_list, '상품소개':product_list, 'EWG등급':ewg_list}\n",
    "df = pd.DataFrame(dic)\n",
    "df.to_csv('gp.csv', encoding= 'euc-kr')"
   ]
  },
  {
   "cell_type": "code",
   "execution_count": 67,
   "id": "e5fa1403",
   "metadata": {},
   "outputs": [
    {
     "ename": "IndexError",
     "evalue": "list index out of range",
     "output_type": "error",
     "traceback": [
      "\u001b[1;31m---------------------------------------------------------------------------\u001b[0m",
      "\u001b[1;31mIndexError\u001b[0m                                Traceback (most recent call last)",
      "Input \u001b[1;32mIn [67]\u001b[0m, in \u001b[0;36m<cell line: 18>\u001b[1;34m()\u001b[0m\n\u001b[0;32m     35\u001b[0m time\u001b[38;5;241m.\u001b[39msleep(\u001b[38;5;241m1\u001b[39m)\n\u001b[0;32m     36\u001b[0m imgs2 \u001b[38;5;241m=\u001b[39m driver\u001b[38;5;241m.\u001b[39mfind_elements(By\u001b[38;5;241m.\u001b[39mCLASS_NAME, \u001b[38;5;124m'\u001b[39m\u001b[38;5;124mfont-normal\u001b[39m\u001b[38;5;124m'\u001b[39m)\n\u001b[1;32m---> 37\u001b[0m \u001b[43mimgs2\u001b[49m\u001b[43m[\u001b[49m\u001b[43mi\u001b[49m\u001b[43m]\u001b[49m\u001b[38;5;241m.\u001b[39mclick()\n\u001b[0;32m     38\u001b[0m time\u001b[38;5;241m.\u001b[39msleep(\u001b[38;5;241m1\u001b[39m)\n\u001b[0;32m     39\u001b[0m \u001b[38;5;66;03m# 제품 이름 갖고 오기\u001b[39;00m\n",
      "\u001b[1;31mIndexError\u001b[0m: list index out of range"
     ]
    }
   ],
   "source": [
    "from selenium import webdriver as wb\n",
    "from selenium.webdriver.common.keys import Keys\n",
    "from selenium.webdriver.common.by import By\n",
    "import time\n",
    "\n",
    "# --전체 테스트---\n",
    "driver = wb.Chrome()\n",
    "driver.maximize_window()\n",
    "driver.get('https://www.glowpick.com/searches/keywords')\n",
    "tt_list = ['수분크림']\n",
    "ewg_list = []\n",
    "ewg_list2 = []\n",
    "title_list = []\n",
    "product_list = []\n",
    "time.sleep(0.5)\n",
    "che = driver.find_element(By.CLASS_NAME, 'buttons__button.buttons__not-today')\n",
    "che.click()\n",
    "for i in tt_list:\n",
    "    time.sleep(0.5)\n",
    "    search = driver.find_element(By.CLASS_NAME,'header__input.copyable') \n",
    "    search.send_keys(i)\n",
    "    search.send_keys(Keys.ENTER)\n",
    "\n",
    "    #for i in range(50):\n",
    "    #    body = driver.find_element(By.TAG_NAME, 'body')\n",
    "    #    body.send_keys(Keys.END)\n",
    "    #    time.sleep(0.5)\n",
    "\n",
    "    #last_height = driver.execute_script(\"return document.body.scrollHeight\")\n",
    "    # 스크롤 위로 올리기\n",
    "    #driver.execute_script(\"window.scrollTo(0,0)\")\n",
    "\n",
    "    for i in range(700):    \n",
    "        # 상품 클릭 / 상세 정보페이지\n",
    "        time.sleep(1)\n",
    "        imgs2 = driver.find_elements(By.CLASS_NAME, 'font-normal')\n",
    "        imgs2[i].click()\n",
    "        time.sleep(1)\n",
    "        # 제품 이름 갖고 오기\n",
    "        title = driver.find_element(By.CLASS_NAME, 'product__summary__name')\n",
    "        title_list.append(title.text)\n",
    "        # 스크롤 한 번 내리기\n",
    "        driver.execute_script(\"window.scrollTo(0,200)\")\n",
    "        time.sleep(0.5)\n",
    "        che2 = driver.find_element(By.CLASS_NAME, 'info__article__h3__button')\n",
    "        che2.click()\n",
    "        time.sleep(0.5)\n",
    "        ewg = driver.find_elements(By.CLASS_NAME, 'item__wrapper')\n",
    "        for i in ewg:\n",
    "            ewg_list2.append(i.text)\n",
    "        ewg_list.append(ewg_list2) \n",
    "        time.sleep(0.1)\n",
    "        # 스크롤 위로 올리기\n",
    "        driver.execute_script(\"window.scrollTo(0,0)\")\n",
    "        che3 = driver.find_element(By.CLASS_NAME, 'details__contents__h1__button')\n",
    "        che3.click()\n",
    "        time.sleep(0.5)\n",
    "        product = driver.find_element(By.CLASS_NAME, 'info__text.description__text')\n",
    "        product_list.append(product.text)\n",
    "        driver.back()\n",
    "        driver.execute_script(\"window.scrollTo(0,200)\") \n"
   ]
  },
  {
   "cell_type": "code",
   "execution_count": 68,
   "id": "38a128b6",
   "metadata": {},
   "outputs": [
    {
     "data": {
      "text/plain": [
       "20"
      ]
     },
     "execution_count": 68,
     "metadata": {},
     "output_type": "execute_result"
    }
   ],
   "source": [
    "len(product_list)"
   ]
  },
  {
   "cell_type": "code",
   "execution_count": null,
   "id": "2c5a87e9",
   "metadata": {},
   "outputs": [],
   "source": []
  }
 ],
 "metadata": {
  "kernelspec": {
   "display_name": "Python 3 (ipykernel)",
   "language": "python",
   "name": "python3"
  },
  "language_info": {
   "codemirror_mode": {
    "name": "ipython",
    "version": 3
   },
   "file_extension": ".py",
   "mimetype": "text/x-python",
   "name": "python",
   "nbconvert_exporter": "python",
   "pygments_lexer": "ipython3",
   "version": "3.9.12"
  },
  "toc": {
   "base_numbering": 1,
   "nav_menu": {},
   "number_sections": true,
   "sideBar": true,
   "skip_h1_title": false,
   "title_cell": "Table of Contents",
   "title_sidebar": "Contents",
   "toc_cell": false,
   "toc_position": {},
   "toc_section_display": true,
   "toc_window_display": false
  }
 },
 "nbformat": 4,
 "nbformat_minor": 5
}
